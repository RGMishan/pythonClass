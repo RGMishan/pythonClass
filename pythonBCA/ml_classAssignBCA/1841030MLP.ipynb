{
 "cells": [
  {
   "cell_type": "code",
   "execution_count": 1,
   "metadata": {},
   "outputs": [
    {
     "name": "stdout",
     "output_type": "stream",
     "text": [
      "iris dataset\n",
      "Accuracy of NN classifier on training set: 0.96\n",
      "Accuracy of NN classifier on test set: 0.97\n"
     ]
    }
   ],
   "source": [
    "from sklearn.neural_network import MLPClassifier\n",
    "from sklearn.preprocessing import MinMaxScaler\n",
    "from sklearn.model_selection import train_test_split\n",
    "from sklearn.datasets import load_iris\n",
    "iris = load_iris()\n",
    "(X_iris, y_iris) = load_iris(return_X_y = True)\n",
    "\n",
    "\n",
    "scaler = MinMaxScaler()\n",
    "\n",
    "X_train, X_test, y_train, y_test = train_test_split(X_iris, y_iris, random_state = 0)\n",
    "X_train_scaled = scaler.fit_transform(X_train)\n",
    "X_test_scaled = scaler.transform(X_test)\n",
    "\n",
    "clf = MLPClassifier(hidden_layer_sizes = [10, 10], alpha = 5.0,\n",
    "                   random_state = 0, solver='lbfgs').fit(X_train_scaled, y_train)\n",
    "\n",
    "print('iris dataset')\n",
    "print('Accuracy of NN classifier on training set: {:.2f}'\n",
    "     .format(clf.score(X_train_scaled, y_train)))\n",
    "print('Accuracy of NN classifier on test set: {:.2f}'\n",
    "     .format(clf.score(X_test_scaled, y_test)))\n"
   ]
  },
  {
   "cell_type": "code",
   "execution_count": 5,
   "metadata": {
    "collapsed": true
   },
   "outputs": [
    {
     "data": {
      "text/plain": [
       "[array([[ 6.22650505e-02,  1.16878335e-01, -3.05160296e-02,\n",
       "         -4.51631473e-05, -2.20012741e-02,  1.57645608e-01,\n",
       "         -6.53603274e-06,  3.18924872e-01,  1.08853966e-01,\n",
       "          5.19943562e-06],\n",
       "        [-7.69063104e-02, -1.45236316e-01,  3.79701332e-02,\n",
       "          1.26166439e-05,  2.72529811e-02, -1.94756176e-01,\n",
       "         -5.02440017e-05, -3.94525938e-01, -1.34864754e-01,\n",
       "          2.51824621e-05],\n",
       "        [ 2.19713293e-01,  4.12827466e-01, -1.07767061e-01,\n",
       "         -2.60747287e-05, -7.75905556e-02,  5.56110644e-01,\n",
       "         -3.73489895e-05,  1.12529617e+00,  3.84109647e-01,\n",
       "          2.12769952e-05],\n",
       "        [ 2.58881844e-01,  4.86524204e-01, -1.26994949e-01,\n",
       "         -5.11272819e-05, -9.13942049e-02,  6.55261494e-01,\n",
       "          1.17389613e-05,  1.32614287e+00,  4.52712710e-01,\n",
       "          5.26258101e-05]]),\n",
       " array([[ 2.35869042e-03, -1.25798851e-01,  2.56687647e-01,\n",
       "         -6.35874132e-02, -2.55074200e-05,  1.53948039e-01,\n",
       "         -1.24907959e-01,  8.23263537e-03, -1.97691775e-05,\n",
       "         -2.23927285e-05],\n",
       "        [ 4.12622294e-03, -2.36340585e-01,  4.82454056e-01,\n",
       "         -1.19309417e-01, -2.65846211e-05,  2.89462107e-01,\n",
       "         -2.34663276e-01,  1.55101938e-02, -1.75669969e-05,\n",
       "         -3.53887494e-05],\n",
       "        [ 2.46541741e-05,  6.14288024e-02, -1.25827115e-01,\n",
       "          3.09896364e-02,  2.09636184e-05, -7.55311541e-02,\n",
       "          6.07518885e-02, -3.97726358e-03, -3.85400464e-05,\n",
       "         -3.34060313e-05],\n",
       "        [-1.59293782e-05, -7.45028522e-06, -2.94358467e-05,\n",
       "          1.68448207e-05,  5.83543670e-06, -1.10524674e-05,\n",
       "         -2.57296796e-06, -3.55778185e-05,  2.43557000e-06,\n",
       "          3.76137551e-05],\n",
       "        [-2.18339916e-04,  4.42132949e-02, -9.09030313e-02,\n",
       "          2.23477103e-02, -1.84516604e-05, -5.45152731e-02,\n",
       "          4.38756818e-02, -2.90547078e-03,  2.88208230e-05,\n",
       "         -4.33972236e-05],\n",
       "        [ 5.48523700e-03, -3.18035794e-01,  6.49539523e-01,\n",
       "         -1.60341010e-01, -2.20135603e-05,  3.89657022e-01,\n",
       "         -3.15860321e-01,  2.09746339e-02, -5.03628607e-05,\n",
       "          3.96686263e-05],\n",
       "        [-4.63272927e-06,  3.03513776e-05,  1.74778269e-05,\n",
       "         -1.77480187e-05,  2.74941041e-05, -9.06788306e-06,\n",
       "          3.33912166e-05,  7.12090614e-06,  3.34466052e-05,\n",
       "          1.68690897e-05],\n",
       "        [ 1.12184073e-02, -6.44025626e-01,  1.31415243e+00,\n",
       "         -3.24994054e-01, -6.67161175e-06,  7.88301646e-01,\n",
       "         -6.39442847e-01,  4.22769407e-02, -2.55261232e-05,\n",
       "         -1.83928242e-05],\n",
       "        [ 3.84073835e-03, -2.20171026e-01,  4.48924513e-01,\n",
       "         -1.11042916e-01,  6.13013354e-06,  2.69334973e-01,\n",
       "         -2.18413550e-01,  1.44334413e-02, -3.94139544e-05,\n",
       "         -6.00892854e-06],\n",
       "        [ 3.72075226e-05, -1.40045908e-05,  9.58756931e-07,\n",
       "          2.95586732e-05,  2.68278773e-05,  2.00206092e-05,\n",
       "         -3.11352740e-05,  3.67539158e-05,  1.62485776e-05,\n",
       "          4.37076062e-05]]),\n",
       " array([[-9.06418693e-03, -1.84252729e-04,  9.28897868e-03],\n",
       "        [ 5.52382449e-01,  2.61645894e-02, -5.78416876e-01],\n",
       "        [-1.12786747e+00, -5.46263857e-02,  1.18245057e+00],\n",
       "        [ 2.79136024e-01,  1.35511327e-02, -2.92768989e-01],\n",
       "        [-3.26031272e-05, -5.23250444e-05,  3.19178422e-05],\n",
       "        [-6.76817364e-01, -3.29054219e-02,  7.09722499e-01],\n",
       "        [ 5.49193583e-01,  2.60775615e-02, -5.75336247e-01],\n",
       "        [-3.62858181e-02, -1.71536545e-03,  3.79942935e-02],\n",
       "        [ 2.24763456e-05,  7.03940212e-06,  3.39305892e-05],\n",
       "        [ 9.77104146e-06,  2.50087030e-05, -2.04370340e-05]])]"
      ]
     },
     "execution_count": 5,
     "metadata": {},
     "output_type": "execute_result"
    }
   ],
   "source": [
    "#clf.n_layers_\n",
    "#clf.n_outputs_\n",
    "#clf.out_activation_\n",
    "clf.coefs_"
   ]
  },
  {
   "cell_type": "code",
   "execution_count": 6,
   "metadata": {},
   "outputs": [],
   "source": [
    "import numpy as np\n",
    "import pandas as pd\n",
    "import seaborn as sn\n",
    "import matplotlib.pyplot as plt\n",
    "\n",
    "from sklearn.model_selection import train_test_split\n",
    "from sklearn.datasets import make_classification, make_blobs\n",
    "from sklearn.metrics import confusion_matrix"
   ]
  },
  {
   "cell_type": "code",
   "execution_count": 7,
   "metadata": {},
   "outputs": [
    {
     "data": {
      "image/png": "[encoded data removed]",
      "text/plain": [
       "<Figure size 432x288 with 1 Axes>"
      ]
     },
     "metadata": {},
     "output_type": "display_data"
    }
   ],
   "source": [
    "from sklearn.metrics import confusion_matrix\n",
    "from matplotlib.colors import ListedColormap\n",
    "X_D2, y_D2 = make_blobs(n_samples = 100, n_features = 2,\n",
    "                       centers = 8, cluster_std = 1.3,\n",
    "                       random_state = 4)\n",
    "y_D2 = y_D2 % 2\n",
    "plt.figure()\n",
    "plt.title('Sample binary classification problem with non-linearly separable classes')\n",
    "plt.scatter(X_D2[:,0], X_D2[:,1], c=y_D2,\n",
    "           marker= 'o', s=50)\n",
    "plt.show()\n"
   ]
  },
  {
   "cell_type": "code",
   "execution_count": 19,
   "metadata": {},
   "outputs": [
    {
     "name": "stdout",
     "output_type": "stream",
     "text": [
      "Accuracy of NN classifier on training set: 0.51\n",
      "Accuracy of NN classifier on test set: 0.48\n",
      "Accuracy of NN classifier on training set: 0.96\n",
      "Accuracy of NN classifier on test set: 0.68\n",
      "Accuracy of NN classifier on training set: 0.91\n",
      "Accuracy of NN classifier on test set: 0.76\n"
     ]
    }
   ],
   "source": []
  },
  {
   "cell_type": "code",
   "execution_count": 1,
   "metadata": {},
   "outputs": [
    {
     "ename": "NameError",
     "evalue": "name 'nnclf' is not defined",
     "output_type": "error",
     "traceback": [
      "\u001b[1;31m---------------------------------------------------------------------------\u001b[0m",
      "\u001b[1;31mNameError\u001b[0m                                 Traceback (most recent call last)",
      "\u001b[1;32m<ipython-input-1-0b47bcbaced3>\u001b[0m in \u001b[0;36m<module>\u001b[1;34m\u001b[0m\n\u001b[0;32m      1\u001b[0m \u001b[1;31m#nnclf.n_layers_\u001b[0m\u001b[1;33m\u001b[0m\u001b[1;33m\u001b[0m\u001b[1;33m\u001b[0m\u001b[0m\n\u001b[1;32m----> 2\u001b[1;33m \u001b[0mnnclf\u001b[0m\u001b[1;33m.\u001b[0m\u001b[0mn_outputs_\u001b[0m\u001b[1;33m\u001b[0m\u001b[1;33m\u001b[0m\u001b[0m\n\u001b[0m\u001b[0;32m      3\u001b[0m \u001b[1;31m#nnclf.out_activation_\u001b[0m\u001b[1;33m\u001b[0m\u001b[1;33m\u001b[0m\u001b[1;33m\u001b[0m\u001b[0m\n",
      "\u001b[1;31mNameError\u001b[0m: name 'nnclf' is not defined"
     ]
    }
   ],
   "source": [
    "#nnclf.n_layers_\n",
    "nnclf.n_outputs_\n",
    "#nnclf.out_activation_"
   ]
  },
  {
   "cell_type": "code",
   "execution_count": null,
   "metadata": {},
   "outputs": [],
   "source": []
  }
 ],
 "metadata": {
  "kernelspec": {
   "display_name": "Python 3",
   "language": "python",
   "name": "python3"
  },
  "language_info": {
   "codemirror_mode": {
    "name": "ipython",
    "version": 3
   },
   "file_extension": ".py",
   "mimetype": "text/x-python",
   "name": "python",
   "nbconvert_exporter": "python",
   "pygments_lexer": "ipython3",
   "version": "3.7.7"
  }
 },
 "nbformat": 4,
 "nbformat_minor": 2
}
