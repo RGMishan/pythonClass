{
 "cells": [
  {
   "cell_type": "code",
   "execution_count": 1,
   "metadata": {},
   "outputs": [],
   "source": [
    "import sklearn\n",
    "from sklearn.datasets import make_classification,make_multilabel_classification\n",
    "import pandas as pd\n",
    "from sklearn.naive_bayes import CategoricalNB\n",
    "from sklearn.neighbors import KNeighborsClassifier\n",
    "from sklearn.model_selection import train_test_split\n",
    "from sklearn.metrics import confusion_matrix , accuracy_score, classification_report\n",
    "from sklearn import preprocessing\n",
    "from sklearn import metrics\n",
    "import seaborn as sns\n",
    "import numpy as np\n",
    "import pandas as pd\n",
    "import matplotlib.pyplot as plt\n",
    "from sklearn.naive_bayes import CategoricalNB\n",
    "from sklearn.model_selection import train_test_split, cross_val_score\n",
    "from sklearn.metrics import precision_recall_fscore_support\n",
    "from sklearn.metrics import confusion_matrix , accuracy_score, classification_report\n",
    "from sklearn import preprocessing\n",
    "from sklearn import metrics\n",
    "import seaborn as sns\n",
    "from sklearn.neighbors import KNeighborsClassifier\n",
    "from sklearn.dummy import DummyClassifier"
   ]
  },
  {
   "cell_type": "markdown",
   "metadata": {},
   "source": [
    "#  Using make_classification"
   ]
  },
  {
   "cell_type": "markdown",
   "metadata": {},
   "source": [
    "## n=4 classes"
   ]
  },
  {
   "cell_type": "code",
   "execution_count": 14,
   "metadata": {},
   "outputs": [],
   "source": [
    "X,y=make_classification(n_samples=1000,n_features=25,n_classes=4,n_informative=4)"
   ]
  },
  {
   "cell_type": "code",
   "execution_count": 15,
   "metadata": {},
   "outputs": [],
   "source": [
    " a=pd.DataFrame(data=X[1:,1:],index=X[1:,0],columns=X[0,1:])"
   ]
  },
  {
   "cell_type": "code",
   "execution_count": 16,
   "metadata": {},
   "outputs": [
    {
     "data": {
      "text/html": [
       "<div>\n",
       "<style scoped>\n",
       "    .dataframe tbody tr th:only-of-type {\n",
       "        vertical-align: middle;\n",
       "    }\n",
       "\n",
       "    .dataframe tbody tr th {\n",
       "        vertical-align: top;\n",
       "    }\n",
       "\n",
       "    .dataframe thead th {\n",
       "        text-align: right;\n",
       "    }\n",
       "</style>\n",
       "<table border=\"1\" class=\"dataframe\">\n",
       "  <thead>\n",
       "    <tr style=\"text-align: right;\">\n",
       "      <th></th>\n",
       "      <th>1.014077</th>\n",
       "      <th>-1.242503</th>\n",
       "      <th>-0.334180</th>\n",
       "      <th>-0.255798</th>\n",
       "      <th>-0.321521</th>\n",
       "      <th>-0.044519</th>\n",
       "      <th>1.023883</th>\n",
       "      <th>-1.288856</th>\n",
       "      <th>-0.053240</th>\n",
       "      <th>-2.247070</th>\n",
       "      <th>...</th>\n",
       "      <th>0.238268</th>\n",
       "      <th>0.397856</th>\n",
       "      <th>-1.434970</th>\n",
       "      <th>1.111382</th>\n",
       "      <th>1.658137</th>\n",
       "      <th>1.074959</th>\n",
       "      <th>-0.476425</th>\n",
       "      <th>1.019934</th>\n",
       "      <th>-1.490260</th>\n",
       "      <th>-0.496719</th>\n",
       "    </tr>\n",
       "  </thead>\n",
       "  <tbody>\n",
       "    <tr>\n",
       "      <th>1.893391</th>\n",
       "      <td>-0.711098</td>\n",
       "      <td>-0.793768</td>\n",
       "      <td>0.685046</td>\n",
       "      <td>1.221585</td>\n",
       "      <td>1.342983</td>\n",
       "      <td>-0.794737</td>\n",
       "      <td>0.798037</td>\n",
       "      <td>-0.405393</td>\n",
       "      <td>-1.630646</td>\n",
       "      <td>0.185642</td>\n",
       "      <td>...</td>\n",
       "      <td>-0.305288</td>\n",
       "      <td>-0.847506</td>\n",
       "      <td>-0.468011</td>\n",
       "      <td>0.707328</td>\n",
       "      <td>-0.680348</td>\n",
       "      <td>0.194897</td>\n",
       "      <td>1.115350</td>\n",
       "      <td>-1.771458</td>\n",
       "      <td>0.431783</td>\n",
       "      <td>0.307518</td>\n",
       "    </tr>\n",
       "    <tr>\n",
       "      <th>-2.073620</th>\n",
       "      <td>-0.404125</td>\n",
       "      <td>-0.461766</td>\n",
       "      <td>0.853412</td>\n",
       "      <td>0.037016</td>\n",
       "      <td>-2.165022</td>\n",
       "      <td>-0.365646</td>\n",
       "      <td>1.148016</td>\n",
       "      <td>0.316386</td>\n",
       "      <td>1.643199</td>\n",
       "      <td>-0.646557</td>\n",
       "      <td>...</td>\n",
       "      <td>-0.134310</td>\n",
       "      <td>1.203893</td>\n",
       "      <td>0.534547</td>\n",
       "      <td>1.507351</td>\n",
       "      <td>0.029253</td>\n",
       "      <td>0.145706</td>\n",
       "      <td>0.495833</td>\n",
       "      <td>1.948066</td>\n",
       "      <td>0.182336</td>\n",
       "      <td>-0.462234</td>\n",
       "    </tr>\n",
       "    <tr>\n",
       "      <th>1.671666</th>\n",
       "      <td>-0.400488</td>\n",
       "      <td>0.165799</td>\n",
       "      <td>-0.531219</td>\n",
       "      <td>1.523132</td>\n",
       "      <td>-0.106315</td>\n",
       "      <td>0.585334</td>\n",
       "      <td>-0.574152</td>\n",
       "      <td>1.001570</td>\n",
       "      <td>-0.047245</td>\n",
       "      <td>0.239699</td>\n",
       "      <td>...</td>\n",
       "      <td>1.905465</td>\n",
       "      <td>0.401941</td>\n",
       "      <td>2.692079</td>\n",
       "      <td>0.349616</td>\n",
       "      <td>-2.539979</td>\n",
       "      <td>1.042255</td>\n",
       "      <td>-0.180812</td>\n",
       "      <td>-0.408548</td>\n",
       "      <td>1.813150</td>\n",
       "      <td>0.124528</td>\n",
       "    </tr>\n",
       "    <tr>\n",
       "      <th>-0.905414</th>\n",
       "      <td>0.509596</td>\n",
       "      <td>0.930598</td>\n",
       "      <td>1.665534</td>\n",
       "      <td>0.411241</td>\n",
       "      <td>-1.150400</td>\n",
       "      <td>-1.863718</td>\n",
       "      <td>-1.950473</td>\n",
       "      <td>0.213196</td>\n",
       "      <td>-2.006994</td>\n",
       "      <td>-1.144576</td>\n",
       "      <td>...</td>\n",
       "      <td>-0.147610</td>\n",
       "      <td>-0.819267</td>\n",
       "      <td>0.489844</td>\n",
       "      <td>-0.960032</td>\n",
       "      <td>0.788161</td>\n",
       "      <td>0.437580</td>\n",
       "      <td>1.345827</td>\n",
       "      <td>0.444277</td>\n",
       "      <td>2.653056</td>\n",
       "      <td>-0.370121</td>\n",
       "    </tr>\n",
       "    <tr>\n",
       "      <th>0.608891</th>\n",
       "      <td>0.302799</td>\n",
       "      <td>0.092768</td>\n",
       "      <td>-0.417341</td>\n",
       "      <td>-1.245806</td>\n",
       "      <td>-0.089123</td>\n",
       "      <td>1.921744</td>\n",
       "      <td>-0.526552</td>\n",
       "      <td>-0.409232</td>\n",
       "      <td>0.326450</td>\n",
       "      <td>2.661821</td>\n",
       "      <td>...</td>\n",
       "      <td>-0.807163</td>\n",
       "      <td>0.480906</td>\n",
       "      <td>-0.675628</td>\n",
       "      <td>0.380899</td>\n",
       "      <td>-0.698191</td>\n",
       "      <td>-0.288680</td>\n",
       "      <td>-0.663664</td>\n",
       "      <td>-0.070077</td>\n",
       "      <td>0.286802</td>\n",
       "      <td>0.234962</td>\n",
       "    </tr>\n",
       "  </tbody>\n",
       "</table>\n",
       "<p>5 rows × 24 columns</p>\n",
       "</div>"
      ],
      "text/plain": [
       "            1.014077  -1.242503  -0.334180  -0.255798  -0.321521  -0.044519  \\\n",
       " 1.893391  -0.711098  -0.793768   0.685046   1.221585   1.342983  -0.794737   \n",
       "-2.073620  -0.404125  -0.461766   0.853412   0.037016  -2.165022  -0.365646   \n",
       " 1.671666  -0.400488   0.165799  -0.531219   1.523132  -0.106315   0.585334   \n",
       "-0.905414   0.509596   0.930598   1.665534   0.411241  -1.150400  -1.863718   \n",
       " 0.608891   0.302799   0.092768  -0.417341  -1.245806  -0.089123   1.921744   \n",
       "\n",
       "            1.023883  -1.288856  -0.053240  -2.247070  ...   0.238268  \\\n",
       " 1.893391   0.798037  -0.405393  -1.630646   0.185642  ...  -0.305288   \n",
       "-2.073620   1.148016   0.316386   1.643199  -0.646557  ...  -0.134310   \n",
       " 1.671666  -0.574152   1.001570  -0.047245   0.239699  ...   1.905465   \n",
       "-0.905414  -1.950473   0.213196  -2.006994  -1.144576  ...  -0.147610   \n",
       " 0.608891  -0.526552  -0.409232   0.326450   2.661821  ...  -0.807163   \n",
       "\n",
       "            0.397856  -1.434970   1.111382   1.658137   1.074959  -0.476425  \\\n",
       " 1.893391  -0.847506  -0.468011   0.707328  -0.680348   0.194897   1.115350   \n",
       "-2.073620   1.203893   0.534547   1.507351   0.029253   0.145706   0.495833   \n",
       " 1.671666   0.401941   2.692079   0.349616  -2.539979   1.042255  -0.180812   \n",
       "-0.905414  -0.819267   0.489844  -0.960032   0.788161   0.437580   1.345827   \n",
       " 0.608891   0.480906  -0.675628   0.380899  -0.698191  -0.288680  -0.663664   \n",
       "\n",
       "            1.019934  -1.490260  -0.496719  \n",
       " 1.893391  -1.771458   0.431783   0.307518  \n",
       "-2.073620   1.948066   0.182336  -0.462234  \n",
       " 1.671666  -0.408548   1.813150   0.124528  \n",
       "-0.905414   0.444277   2.653056  -0.370121  \n",
       " 0.608891  -0.070077   0.286802   0.234962  \n",
       "\n",
       "[5 rows x 24 columns]"
      ]
     },
     "execution_count": 16,
     "metadata": {},
     "output_type": "execute_result"
    }
   ],
   "source": [
    "a.head()"
   ]
  },
  {
   "cell_type": "code",
   "execution_count": 17,
   "metadata": {},
   "outputs": [],
   "source": [
    "x_train,x_test,y_train,y_test=train_test_split(X,y,test_size=0.3, random_state=45)"
   ]
  },
  {
   "cell_type": "code",
   "execution_count": 18,
   "metadata": {},
   "outputs": [
    {
     "data": {
      "text/plain": [
       "array([3, 1, 1, 3, 0, 2, 0, 3, 2, 0, 1, 0, 2, 0, 2, 1, 1, 1, 0, 2, 1, 2,\n",
       "       1, 0, 1, 1, 0, 0, 2, 2, 1, 0, 2, 1, 3, 0, 2, 1, 0, 0, 3, 2, 0, 0,\n",
       "       2, 1, 1, 2, 3, 3, 2, 1, 0, 1, 1, 2, 2, 0, 1, 1, 1, 3, 0, 0, 2, 2,\n",
       "       3, 0, 0, 0, 0, 2, 1, 1, 2, 2, 1, 0, 3, 2, 2, 1, 0, 0, 0, 1, 1, 0,\n",
       "       1, 0, 1, 1, 0, 1, 2, 1, 1, 0, 3, 1, 1, 3, 1, 2, 0, 1, 2, 0, 0, 0,\n",
       "       1, 0, 1, 0, 3, 0, 1, 0, 1, 3, 2, 2, 3, 3, 1, 3, 2, 1, 3, 2, 0, 0,\n",
       "       1, 0, 0, 0, 1, 1, 3, 3, 1, 0, 3, 3, 2, 1, 1, 0, 2, 1, 2, 3, 2, 0,\n",
       "       0, 0, 1, 2, 1, 2, 0, 0, 1, 2, 3, 3, 3, 0, 3, 1, 2, 2, 1, 2, 2, 2,\n",
       "       0, 1, 1, 0, 1, 0, 3, 3, 2, 0, 2, 2, 1, 1, 2, 3, 2, 3, 1, 0, 1, 2,\n",
       "       1, 2, 2, 3, 3, 2, 1, 3, 1, 0, 3, 1, 0, 0, 3, 2, 3, 3, 0, 3, 2, 3,\n",
       "       2, 3, 1, 1, 2, 3, 0, 1, 0, 2, 2, 1, 3, 1, 2, 1, 0, 1, 1, 3, 2, 0,\n",
       "       0, 3, 0, 2, 2, 3, 1, 1, 1, 1, 1, 3, 0, 1, 1, 2, 3, 2, 3, 1, 0, 2,\n",
       "       2, 1, 2, 2, 3, 1, 3, 2, 2, 0, 2, 3, 1, 1, 3, 2, 1, 2, 2, 0, 0, 0,\n",
       "       2, 3, 0, 0, 0, 2, 2, 3, 3, 3, 2, 2, 3, 1])"
      ]
     },
     "execution_count": 18,
     "metadata": {},
     "output_type": "execute_result"
    }
   ],
   "source": [
    "knn=KNeighborsClassifier()\n",
    "knn.fit(x_train,y_train)\n",
    "y_predict=knn.predict(x_test)\n",
    "y_predict"
   ]
  },
  {
   "cell_type": "code",
   "execution_count": 20,
   "metadata": {},
   "outputs": [
    {
     "data": {
      "text/plain": [
       "65.33333333333333"
      ]
     },
     "execution_count": 20,
     "metadata": {},
     "output_type": "execute_result"
    }
   ],
   "source": [
    "knn_accuracy=accuracy_score(y_test,y_predict)*100\n",
    "knn_accuracy"
   ]
  },
  {
   "cell_type": "code",
   "execution_count": 21,
   "metadata": {},
   "outputs": [
    {
     "data": {
      "text/plain": [
       "{'0': {'precision': 0.631578947368421,\n",
       "  'recall': 0.631578947368421,\n",
       "  'f1-score': 0.631578947368421,\n",
       "  'support': 76},\n",
       " '1': {'precision': 0.5227272727272727,\n",
       "  'recall': 0.647887323943662,\n",
       "  'f1-score': 0.5786163522012578,\n",
       "  'support': 71},\n",
       " '2': {'precision': 0.7948717948717948,\n",
       "  'recall': 0.775,\n",
       "  'f1-score': 0.7848101265822786,\n",
       "  'support': 80},\n",
       " '3': {'precision': 0.6896551724137931,\n",
       "  'recall': 0.547945205479452,\n",
       "  'f1-score': 0.6106870229007634,\n",
       "  'support': 73},\n",
       " 'accuracy': 0.6533333333333333,\n",
       " 'macro avg': {'precision': 0.6597082968453204,\n",
       "  'recall': 0.6506028691978838,\n",
       "  'f1-score': 0.6514231122631803,\n",
       "  'support': 300},\n",
       " 'weighted avg': {'precision': 0.6634940251319561,\n",
       "  'recall': 0.6533333333333333,\n",
       "  'f1-score': 0.6548224126820911,\n",
       "  'support': 300}}"
      ]
     },
     "execution_count": 21,
     "metadata": {},
     "output_type": "execute_result"
    }
   ],
   "source": [
    "report=classification_report(y_test,y_predict,output_dict=True)\n",
    "report"
   ]
  },
  {
   "cell_type": "code",
   "execution_count": 22,
   "metadata": {},
   "outputs": [
    {
     "data": {
      "text/html": [
       "<div>\n",
       "<style scoped>\n",
       "    .dataframe tbody tr th:only-of-type {\n",
       "        vertical-align: middle;\n",
       "    }\n",
       "\n",
       "    .dataframe tbody tr th {\n",
       "        vertical-align: top;\n",
       "    }\n",
       "\n",
       "    .dataframe thead th {\n",
       "        text-align: right;\n",
       "    }\n",
       "</style>\n",
       "<table border=\"1\" class=\"dataframe\">\n",
       "  <thead>\n",
       "    <tr style=\"text-align: right;\">\n",
       "      <th>Predicted</th>\n",
       "      <th>0</th>\n",
       "      <th>1</th>\n",
       "      <th>2</th>\n",
       "      <th>3</th>\n",
       "    </tr>\n",
       "    <tr>\n",
       "      <th>Actual</th>\n",
       "      <th></th>\n",
       "      <th></th>\n",
       "      <th></th>\n",
       "      <th></th>\n",
       "    </tr>\n",
       "  </thead>\n",
       "  <tbody>\n",
       "    <tr>\n",
       "      <th>0</th>\n",
       "      <td>48</td>\n",
       "      <td>17</td>\n",
       "      <td>4</td>\n",
       "      <td>7</td>\n",
       "    </tr>\n",
       "    <tr>\n",
       "      <th>1</th>\n",
       "      <td>13</td>\n",
       "      <td>46</td>\n",
       "      <td>5</td>\n",
       "      <td>7</td>\n",
       "    </tr>\n",
       "    <tr>\n",
       "      <th>2</th>\n",
       "      <td>4</td>\n",
       "      <td>10</td>\n",
       "      <td>62</td>\n",
       "      <td>4</td>\n",
       "    </tr>\n",
       "    <tr>\n",
       "      <th>3</th>\n",
       "      <td>11</td>\n",
       "      <td>15</td>\n",
       "      <td>7</td>\n",
       "      <td>40</td>\n",
       "    </tr>\n",
       "  </tbody>\n",
       "</table>\n",
       "</div>"
      ],
      "text/plain": [
       "Predicted   0   1   2   3\n",
       "Actual                   \n",
       "0          48  17   4   7\n",
       "1          13  46   5   7\n",
       "2           4  10  62   4\n",
       "3          11  15   7  40"
      ]
     },
     "execution_count": 22,
     "metadata": {},
     "output_type": "execute_result"
    }
   ],
   "source": [
    "confusion_matrix_knn = pd.crosstab(y_test , y_predict, rownames=['Actual'], colnames=['Predicted'])\n",
    "confusion_matrix_knn"
   ]
  },
  {
   "cell_type": "markdown",
   "metadata": {},
   "source": [
    "# Using make_label_classification"
   ]
  },
  {
   "cell_type": "markdown",
   "metadata": {},
   "source": [
    "## n=6 classes"
   ]
  },
  {
   "cell_type": "code",
   "execution_count": 23,
   "metadata": {},
   "outputs": [],
   "source": [
    "X,y=make_multilabel_classification(n_samples=1000,n_features=25,n_classes=6)\n",
    "x_train,x_test,y_train,y_test=train_test_split(X,y,test_size=0.3, random_state=45)"
   ]
  },
  {
   "cell_type": "code",
   "execution_count": 24,
   "metadata": {},
   "outputs": [
    {
     "data": {
      "text/plain": [
       "array([[0, 0, 1, 0, 1, 0],\n",
       "       [1, 0, 0, 0, 1, 0],\n",
       "       [0, 0, 0, 0, 0, 0],\n",
       "       ...,\n",
       "       [0, 0, 1, 0, 0, 0],\n",
       "       [0, 0, 0, 1, 1, 0],\n",
       "       [1, 0, 1, 0, 1, 0]])"
      ]
     },
     "execution_count": 24,
     "metadata": {},
     "output_type": "execute_result"
    }
   ],
   "source": [
    "knn1=KNeighborsClassifier()\n",
    "knn1.fit(x_train,y_train)\n",
    "y_predict1=knn1.predict(x_test)\n",
    "y_predict1"
   ]
  },
  {
   "cell_type": "code",
   "execution_count": 25,
   "metadata": {},
   "outputs": [
    {
     "data": {
      "text/plain": [
       "{'0': {'precision': 0.5394736842105263,\n",
       "  'recall': 0.5125,\n",
       "  'f1-score': 0.5256410256410255,\n",
       "  'support': 80},\n",
       " '1': {'precision': 0.5421686746987951,\n",
       "  'recall': 0.45918367346938777,\n",
       "  'f1-score': 0.49723756906077343,\n",
       "  'support': 98},\n",
       " '2': {'precision': 0.6233766233766234,\n",
       "  'recall': 0.7619047619047619,\n",
       "  'f1-score': 0.6857142857142857,\n",
       "  'support': 126},\n",
       " '3': {'precision': 0.5268817204301075,\n",
       "  'recall': 0.5444444444444444,\n",
       "  'f1-score': 0.5355191256830601,\n",
       "  'support': 90},\n",
       " '4': {'precision': 0.7152777777777778,\n",
       "  'recall': 0.7410071942446043,\n",
       "  'f1-score': 0.7279151943462897,\n",
       "  'support': 139},\n",
       " '5': {'precision': 0.6666666666666666,\n",
       "  'recall': 0.13793103448275862,\n",
       "  'f1-score': 0.2285714285714286,\n",
       "  'support': 29},\n",
       " 'micro avg': {'precision': 0.6079136690647482,\n",
       "  'recall': 0.6014234875444839,\n",
       "  'f1-score': 0.6046511627906976,\n",
       "  'support': 562},\n",
       " 'macro avg': {'precision': 0.6023075245267494,\n",
       "  'recall': 0.5261618514243261,\n",
       "  'f1-score': 0.5334331048361438,\n",
       "  'support': 562},\n",
       " 'weighted avg': {'precision': 0.6067832360959656,\n",
       "  'recall': 0.6014234875444839,\n",
       "  'f1-score': 0.5928577732623113,\n",
       "  'support': 562},\n",
       " 'samples avg': {'precision': 0.7105555555555556,\n",
       "  'recall': 0.7491111111111112,\n",
       "  'f1-score': 0.6173915343915345,\n",
       "  'support': 562}}"
      ]
     },
     "execution_count": 25,
     "metadata": {},
     "output_type": "execute_result"
    }
   ],
   "source": [
    "report=classification_report(y_test,y_predict1,output_dict=True, zero_division=1)\n",
    "report"
   ]
  },
  {
   "cell_type": "code",
   "execution_count": 26,
   "metadata": {},
   "outputs": [
    {
     "data": {
      "text/plain": [
       "28.333333333333332"
      ]
     },
     "execution_count": 26,
     "metadata": {},
     "output_type": "execute_result"
    }
   ],
   "source": [
    "knn_accuracy1=accuracy_score(y_test,y_predict1)*100\n",
    "knn_accuracy1"
   ]
  },
  {
   "cell_type": "code",
   "execution_count": null,
   "metadata": {},
   "outputs": [],
   "source": []
  }
 ],
 "metadata": {
  "kernelspec": {
   "display_name": "Python 3",
   "language": "python",
   "name": "python3"
  },
  "language_info": {
   "codemirror_mode": {
    "name": "ipython",
    "version": 3
   },
   "file_extension": ".py",
   "mimetype": "text/x-python",
   "name": "python",
   "nbconvert_exporter": "python",
   "pygments_lexer": "ipython3",
   "version": "3.7.7"
  }
 },
 "nbformat": 4,
 "nbformat_minor": 4
}
