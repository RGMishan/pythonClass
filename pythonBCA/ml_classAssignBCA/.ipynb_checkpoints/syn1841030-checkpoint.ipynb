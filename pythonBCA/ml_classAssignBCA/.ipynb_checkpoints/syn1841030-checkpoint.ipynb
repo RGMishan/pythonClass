{
 "cells": [
  {
   "cell_type": "code",
   "execution_count": 1,
   "metadata": {},
   "outputs": [],
   "source": [
    "import sklearn\n",
    "from sklearn.datasets import make_classification,make_multilabel_classification\n",
    "import pandas as pd\n",
    "from sklearn.naive_bayes import CategoricalNB\n",
    "from sklearn.neighbors import KNeighborsClassifier\n",
    "from sklearn.model_selection import train_test_split\n",
    "from sklearn.metrics import confusion_matrix , accuracy_score, classification_report\n",
    "from sklearn import preprocessing\n",
    "from sklearn import metrics\n",
    "import seaborn as sns\n",
    "import numpy as np\n",
    "import pandas as pd\n",
    "import matplotlib.pyplot as plt\n",
    "from sklearn.naive_bayes import CategoricalNB\n",
    "from sklearn.model_selection import train_test_split, cross_val_score\n",
    "from sklearn.metrics import precision_recall_fscore_support\n",
    "from sklearn.metrics import confusion_matrix , accuracy_score, classification_report\n",
    "from sklearn import preprocessing\n",
    "from sklearn import metrics\n",
    "import seaborn as sns\n",
    "from sklearn.neighbors import KNeighborsClassifier\n",
    "from sklearn.dummy import DummyClassifier"
   ]
  },
  {
   "cell_type": "markdown",
   "metadata": {},
   "source": [
    "# Generating Dataset using make_classification"
   ]
  },
  {
   "cell_type": "markdown",
   "metadata": {},
   "source": [
    "## taking n=5 classes"
   ]
  },
  {
   "cell_type": "code",
   "execution_count": 2,
   "metadata": {},
   "outputs": [],
   "source": [
    "X,y=make_classification(n_samples=1000,n_features=30,n_classes=5,n_informative=4)"
   ]
  },
  {
   "cell_type": "code",
   "execution_count": 3,
   "metadata": {},
   "outputs": [],
   "source": [
    " a=pd.DataFrame(data=X[1:,1:],index=X[1:,0],columns=X[0,1:])"
   ]
  },
  {
   "cell_type": "code",
   "execution_count": 4,
   "metadata": {},
   "outputs": [
    {
     "data": {
      "text/html": [
       "<div>\n",
       "<style scoped>\n",
       "    .dataframe tbody tr th:only-of-type {\n",
       "        vertical-align: middle;\n",
       "    }\n",
       "\n",
       "    .dataframe tbody tr th {\n",
       "        vertical-align: top;\n",
       "    }\n",
       "\n",
       "    .dataframe thead th {\n",
       "        text-align: right;\n",
       "    }\n",
       "</style>\n",
       "<table border=\"1\" class=\"dataframe\">\n",
       "  <thead>\n",
       "    <tr style=\"text-align: right;\">\n",
       "      <th></th>\n",
       "      <th>0.910929</th>\n",
       "      <th>0.671795</th>\n",
       "      <th>0.494721</th>\n",
       "      <th>0.084781</th>\n",
       "      <th>-0.811602</th>\n",
       "      <th>0.265381</th>\n",
       "      <th>0.643117</th>\n",
       "      <th>0.040587</th>\n",
       "      <th>2.950412</th>\n",
       "      <th>3.144202</th>\n",
       "      <th>...</th>\n",
       "      <th>-3.109929</th>\n",
       "      <th>0.482005</th>\n",
       "      <th>1.176887</th>\n",
       "      <th>-0.783230</th>\n",
       "      <th>-0.188128</th>\n",
       "      <th>-0.679711</th>\n",
       "      <th>0.062198</th>\n",
       "      <th>0.574179</th>\n",
       "      <th>-0.366531</th>\n",
       "      <th>2.974494</th>\n",
       "    </tr>\n",
       "  </thead>\n",
       "  <tbody>\n",
       "    <tr>\n",
       "      <th>-0.305005</th>\n",
       "      <td>-0.133689</td>\n",
       "      <td>-0.277103</td>\n",
       "      <td>-1.281109</td>\n",
       "      <td>1.227142</td>\n",
       "      <td>0.025283</td>\n",
       "      <td>-0.734155</td>\n",
       "      <td>1.740704</td>\n",
       "      <td>-1.410065</td>\n",
       "      <td>0.404071</td>\n",
       "      <td>0.151485</td>\n",
       "      <td>...</td>\n",
       "      <td>0.797681</td>\n",
       "      <td>-3.027505</td>\n",
       "      <td>0.167649</td>\n",
       "      <td>0.331076</td>\n",
       "      <td>0.661839</td>\n",
       "      <td>-0.109491</td>\n",
       "      <td>0.175201</td>\n",
       "      <td>-0.466142</td>\n",
       "      <td>0.157526</td>\n",
       "      <td>-2.624530</td>\n",
       "    </tr>\n",
       "    <tr>\n",
       "      <th>-1.097024</th>\n",
       "      <td>-0.203973</td>\n",
       "      <td>-0.520063</td>\n",
       "      <td>-1.517767</td>\n",
       "      <td>-0.960606</td>\n",
       "      <td>-1.456420</td>\n",
       "      <td>1.660064</td>\n",
       "      <td>1.390011</td>\n",
       "      <td>0.316480</td>\n",
       "      <td>0.082650</td>\n",
       "      <td>-0.967627</td>\n",
       "      <td>...</td>\n",
       "      <td>-0.254391</td>\n",
       "      <td>-0.946918</td>\n",
       "      <td>0.359826</td>\n",
       "      <td>-0.152782</td>\n",
       "      <td>-0.233409</td>\n",
       "      <td>-0.423215</td>\n",
       "      <td>0.847703</td>\n",
       "      <td>-0.395432</td>\n",
       "      <td>-0.444390</td>\n",
       "      <td>-2.003041</td>\n",
       "    </tr>\n",
       "    <tr>\n",
       "      <th>-0.075999</th>\n",
       "      <td>0.432672</td>\n",
       "      <td>-0.277133</td>\n",
       "      <td>-0.098196</td>\n",
       "      <td>-0.138584</td>\n",
       "      <td>-0.544082</td>\n",
       "      <td>-0.277491</td>\n",
       "      <td>0.164101</td>\n",
       "      <td>-0.913681</td>\n",
       "      <td>0.810712</td>\n",
       "      <td>1.427586</td>\n",
       "      <td>...</td>\n",
       "      <td>-0.635567</td>\n",
       "      <td>-1.763304</td>\n",
       "      <td>-0.468159</td>\n",
       "      <td>1.253509</td>\n",
       "      <td>0.878576</td>\n",
       "      <td>-0.831007</td>\n",
       "      <td>-1.070491</td>\n",
       "      <td>-1.561161</td>\n",
       "      <td>-0.036530</td>\n",
       "      <td>-0.818229</td>\n",
       "    </tr>\n",
       "    <tr>\n",
       "      <th>0.680717</th>\n",
       "      <td>-1.149483</td>\n",
       "      <td>0.315718</td>\n",
       "      <td>-2.119196</td>\n",
       "      <td>-0.494544</td>\n",
       "      <td>-0.853422</td>\n",
       "      <td>-0.765211</td>\n",
       "      <td>0.462741</td>\n",
       "      <td>-1.564339</td>\n",
       "      <td>0.990372</td>\n",
       "      <td>0.537966</td>\n",
       "      <td>...</td>\n",
       "      <td>-1.353426</td>\n",
       "      <td>-1.016930</td>\n",
       "      <td>0.247554</td>\n",
       "      <td>0.618425</td>\n",
       "      <td>0.898287</td>\n",
       "      <td>0.043895</td>\n",
       "      <td>0.734730</td>\n",
       "      <td>-0.432628</td>\n",
       "      <td>-0.615576</td>\n",
       "      <td>-0.600962</td>\n",
       "    </tr>\n",
       "    <tr>\n",
       "      <th>-0.509941</th>\n",
       "      <td>0.373215</td>\n",
       "      <td>0.628040</td>\n",
       "      <td>1.039908</td>\n",
       "      <td>-0.789490</td>\n",
       "      <td>0.281968</td>\n",
       "      <td>0.660556</td>\n",
       "      <td>-0.603721</td>\n",
       "      <td>-0.311655</td>\n",
       "      <td>0.000862</td>\n",
       "      <td>1.321621</td>\n",
       "      <td>...</td>\n",
       "      <td>0.554014</td>\n",
       "      <td>1.182576</td>\n",
       "      <td>0.499619</td>\n",
       "      <td>-1.087086</td>\n",
       "      <td>-1.046259</td>\n",
       "      <td>-2.034673</td>\n",
       "      <td>-2.005641</td>\n",
       "      <td>-0.854584</td>\n",
       "      <td>-1.816831</td>\n",
       "      <td>2.469331</td>\n",
       "    </tr>\n",
       "  </tbody>\n",
       "</table>\n",
       "<p>5 rows × 29 columns</p>\n",
       "</div>"
      ],
      "text/plain": [
       "            0.910929   0.671795   0.494721   0.084781  -0.811602   0.265381  \\\n",
       "-0.305005  -0.133689  -0.277103  -1.281109   1.227142   0.025283  -0.734155   \n",
       "-1.097024  -0.203973  -0.520063  -1.517767  -0.960606  -1.456420   1.660064   \n",
       "-0.075999   0.432672  -0.277133  -0.098196  -0.138584  -0.544082  -0.277491   \n",
       " 0.680717  -1.149483   0.315718  -2.119196  -0.494544  -0.853422  -0.765211   \n",
       "-0.509941   0.373215   0.628040   1.039908  -0.789490   0.281968   0.660556   \n",
       "\n",
       "            0.643117   0.040587   2.950412   3.144202  ...  -3.109929  \\\n",
       "-0.305005   1.740704  -1.410065   0.404071   0.151485  ...   0.797681   \n",
       "-1.097024   1.390011   0.316480   0.082650  -0.967627  ...  -0.254391   \n",
       "-0.075999   0.164101  -0.913681   0.810712   1.427586  ...  -0.635567   \n",
       " 0.680717   0.462741  -1.564339   0.990372   0.537966  ...  -1.353426   \n",
       "-0.509941  -0.603721  -0.311655   0.000862   1.321621  ...   0.554014   \n",
       "\n",
       "            0.482005   1.176887  -0.783230  -0.188128  -0.679711   0.062198  \\\n",
       "-0.305005  -3.027505   0.167649   0.331076   0.661839  -0.109491   0.175201   \n",
       "-1.097024  -0.946918   0.359826  -0.152782  -0.233409  -0.423215   0.847703   \n",
       "-0.075999  -1.763304  -0.468159   1.253509   0.878576  -0.831007  -1.070491   \n",
       " 0.680717  -1.016930   0.247554   0.618425   0.898287   0.043895   0.734730   \n",
       "-0.509941   1.182576   0.499619  -1.087086  -1.046259  -2.034673  -2.005641   \n",
       "\n",
       "            0.574179  -0.366531   2.974494  \n",
       "-0.305005  -0.466142   0.157526  -2.624530  \n",
       "-1.097024  -0.395432  -0.444390  -2.003041  \n",
       "-0.075999  -1.561161  -0.036530  -0.818229  \n",
       " 0.680717  -0.432628  -0.615576  -0.600962  \n",
       "-0.509941  -0.854584  -1.816831   2.469331  \n",
       "\n",
       "[5 rows x 29 columns]"
      ]
     },
     "execution_count": 4,
     "metadata": {},
     "output_type": "execute_result"
    }
   ],
   "source": [
    "a.head()"
   ]
  },
  {
   "cell_type": "code",
   "execution_count": 5,
   "metadata": {},
   "outputs": [],
   "source": [
    "x_train,x_test,y_train,y_test=train_test_split(X,y,test_size=0.3, random_state=42)"
   ]
  },
  {
   "cell_type": "code",
   "execution_count": 6,
   "metadata": {},
   "outputs": [
    {
     "data": {
      "text/plain": [
       "array([4, 2, 1, 0, 3, 0, 2, 4, 3, 1, 1, 3, 1, 0, 3, 3, 1, 0, 4, 1, 2, 0,\n",
       "       0, 0, 0, 2, 2, 4, 0, 0, 4, 4, 4, 2, 4, 3, 0, 4, 2, 0, 3, 1, 1, 2,\n",
       "       1, 0, 4, 1, 3, 0, 4, 0, 0, 0, 3, 2, 0, 0, 3, 0, 0, 0, 1, 0, 3, 2,\n",
       "       1, 1, 0, 2, 0, 1, 3, 0, 0, 0, 4, 2, 3, 1, 1, 0, 1, 0, 3, 2, 0, 4,\n",
       "       3, 3, 3, 1, 4, 3, 4, 1, 0, 3, 3, 1, 0, 3, 0, 3, 4, 1, 1, 0, 0, 2,\n",
       "       1, 0, 3, 4, 2, 3, 3, 2, 1, 2, 1, 1, 3, 4, 2, 3, 4, 1, 2, 3, 1, 2,\n",
       "       0, 1, 3, 3, 1, 3, 4, 1, 2, 2, 1, 3, 1, 3, 1, 3, 4, 2, 4, 0, 1, 2,\n",
       "       4, 2, 4, 2, 0, 0, 2, 1, 0, 1, 3, 4, 0, 0, 2, 0, 2, 4, 4, 4, 4, 2,\n",
       "       3, 0, 4, 1, 4, 2, 1, 0, 2, 3, 0, 2, 4, 2, 0, 3, 2, 0, 3, 1, 2, 3,\n",
       "       2, 2, 1, 0, 4, 0, 1, 1, 0, 1, 1, 2, 0, 1, 2, 1, 2, 0, 0, 3, 2, 4,\n",
       "       1, 1, 0, 1, 4, 0, 4, 3, 3, 0, 4, 2, 1, 0, 1, 2, 1, 1, 3, 2, 3, 1,\n",
       "       4, 4, 0, 0, 3, 3, 0, 4, 1, 2, 1, 0, 2, 0, 3, 0, 4, 1, 4, 0, 0, 0,\n",
       "       0, 2, 2, 4, 1, 4, 4, 0, 4, 0, 0, 4, 3, 3, 2, 2, 3, 0, 2, 2, 1, 4,\n",
       "       0, 4, 3, 3, 3, 3, 0, 1, 1, 3, 1, 0, 2, 1])"
      ]
     },
     "execution_count": 6,
     "metadata": {},
     "output_type": "execute_result"
    }
   ],
   "source": [
    "knn=KNeighborsClassifier()\n",
    "knn.fit(x_train,y_train)\n",
    "y_predict=knn.predict(x_test)\n",
    "y_predict"
   ]
  },
  {
   "cell_type": "code",
   "execution_count": 7,
   "metadata": {},
   "outputs": [
    {
     "data": {
      "text/plain": [
       "51.66666666666667"
      ]
     },
     "execution_count": 7,
     "metadata": {},
     "output_type": "execute_result"
    }
   ],
   "source": [
    "knn_accuracy=accuracy_score(y_test,y_predict)*100\n",
    "knn_accuracy"
   ]
  },
  {
   "cell_type": "code",
   "execution_count": 8,
   "metadata": {},
   "outputs": [
    {
     "data": {
      "text/plain": [
       "{'0': {'precision': 0.4675324675324675,\n",
       "  'recall': 0.5806451612903226,\n",
       "  'f1-score': 0.5179856115107914,\n",
       "  'support': 62},\n",
       " '1': {'precision': 0.421875,\n",
       "  'recall': 0.48214285714285715,\n",
       "  'f1-score': 0.44999999999999996,\n",
       "  'support': 56},\n",
       " '2': {'precision': 0.6111111111111112,\n",
       "  'recall': 0.55,\n",
       "  'f1-score': 0.5789473684210527,\n",
       "  'support': 60},\n",
       " '3': {'precision': 0.5535714285714286,\n",
       "  'recall': 0.4696969696969697,\n",
       "  'f1-score': 0.5081967213114754,\n",
       "  'support': 66},\n",
       " '4': {'precision': 0.5714285714285714,\n",
       "  'recall': 0.5,\n",
       "  'f1-score': 0.5333333333333333,\n",
       "  'support': 56},\n",
       " 'accuracy': 0.5166666666666667,\n",
       " 'macro avg': {'precision': 0.5251037157287157,\n",
       "  'recall': 0.5164969976260299,\n",
       "  'f1-score': 0.5176926069153305,\n",
       "  'support': 300},\n",
       " 'weighted avg': {'precision': 0.5260479797979798,\n",
       "  'recall': 0.5166666666666667,\n",
       "  'f1-score': 0.5181986676405209,\n",
       "  'support': 300}}"
      ]
     },
     "execution_count": 8,
     "metadata": {},
     "output_type": "execute_result"
    }
   ],
   "source": [
    "report=classification_report(y_test,y_predict,output_dict=True)\n",
    "report"
   ]
  },
  {
   "cell_type": "code",
   "execution_count": 9,
   "metadata": {},
   "outputs": [
    {
     "data": {
      "text/html": [
       "<div>\n",
       "<style scoped>\n",
       "    .dataframe tbody tr th:only-of-type {\n",
       "        vertical-align: middle;\n",
       "    }\n",
       "\n",
       "    .dataframe tbody tr th {\n",
       "        vertical-align: top;\n",
       "    }\n",
       "\n",
       "    .dataframe thead th {\n",
       "        text-align: right;\n",
       "    }\n",
       "</style>\n",
       "<table border=\"1\" class=\"dataframe\">\n",
       "  <thead>\n",
       "    <tr style=\"text-align: right;\">\n",
       "      <th>Predicted</th>\n",
       "      <th>0</th>\n",
       "      <th>1</th>\n",
       "      <th>2</th>\n",
       "      <th>3</th>\n",
       "      <th>4</th>\n",
       "    </tr>\n",
       "    <tr>\n",
       "      <th>Actual</th>\n",
       "      <th></th>\n",
       "      <th></th>\n",
       "      <th></th>\n",
       "      <th></th>\n",
       "      <th></th>\n",
       "    </tr>\n",
       "  </thead>\n",
       "  <tbody>\n",
       "    <tr>\n",
       "      <th>0</th>\n",
       "      <td>36</td>\n",
       "      <td>7</td>\n",
       "      <td>6</td>\n",
       "      <td>9</td>\n",
       "      <td>4</td>\n",
       "    </tr>\n",
       "    <tr>\n",
       "      <th>1</th>\n",
       "      <td>9</td>\n",
       "      <td>27</td>\n",
       "      <td>8</td>\n",
       "      <td>5</td>\n",
       "      <td>7</td>\n",
       "    </tr>\n",
       "    <tr>\n",
       "      <th>2</th>\n",
       "      <td>7</td>\n",
       "      <td>13</td>\n",
       "      <td>33</td>\n",
       "      <td>4</td>\n",
       "      <td>3</td>\n",
       "    </tr>\n",
       "    <tr>\n",
       "      <th>3</th>\n",
       "      <td>13</td>\n",
       "      <td>12</td>\n",
       "      <td>3</td>\n",
       "      <td>31</td>\n",
       "      <td>7</td>\n",
       "    </tr>\n",
       "    <tr>\n",
       "      <th>4</th>\n",
       "      <td>12</td>\n",
       "      <td>5</td>\n",
       "      <td>4</td>\n",
       "      <td>7</td>\n",
       "      <td>28</td>\n",
       "    </tr>\n",
       "  </tbody>\n",
       "</table>\n",
       "</div>"
      ],
      "text/plain": [
       "Predicted   0   1   2   3   4\n",
       "Actual                       \n",
       "0          36   7   6   9   4\n",
       "1           9  27   8   5   7\n",
       "2           7  13  33   4   3\n",
       "3          13  12   3  31   7\n",
       "4          12   5   4   7  28"
      ]
     },
     "execution_count": 9,
     "metadata": {},
     "output_type": "execute_result"
    }
   ],
   "source": [
    "confusion_matrix_knn = pd.crosstab(y_test , y_predict, rownames=['Actual'], colnames=['Predicted'])\n",
    "confusion_matrix_knn"
   ]
  },
  {
   "cell_type": "code",
   "execution_count": 10,
   "metadata": {},
   "outputs": [
    {
     "data": {
      "image/png": "[encoded data removed]",
      "text/plain": [
       "<Figure size 432x288 with 2 Axes>"
      ]
     },
     "metadata": {
      "needs_background": "light"
     },
     "output_type": "display_data"
    }
   ],
   "source": [
    "output=['0','1','2','3','4']\n",
    "sns.heatmap(confusion_matrix_knn,square=True, annot=True,cmap=\"YlGn\",xticklabels=output,yticklabels=output,fmt=\".0f\")\n",
    "plt.ylabel(\"Actual values\");\n",
    "plt.xlabel(\"Pedicted Values\");"
   ]
  },
  {
   "cell_type": "markdown",
   "metadata": {},
   "source": [
    "# Generating Dataset using make_label_classification"
   ]
  },
  {
   "cell_type": "markdown",
   "metadata": {},
   "source": [
    "## taking n=7 classes"
   ]
  },
  {
   "cell_type": "code",
   "execution_count": 11,
   "metadata": {},
   "outputs": [],
   "source": [
    "X,y=make_classification(n_samples=1000,n_features=30,n_classes=7,n_informative=4)\n",
    "x_train,x_test,y_train,y_test=train_test_split(X,y,test_size=0.3, random_state=42)"
   ]
  },
  {
   "cell_type": "code",
   "execution_count": 12,
   "metadata": {},
   "outputs": [
    {
     "data": {
      "text/plain": [
       "array([2, 1, 4, 0, 5, 1, 3, 3, 0, 0, 5, 1, 3, 1, 1, 1, 3, 2, 2, 3, 0, 5,\n",
       "       6, 6, 1, 0, 0, 1, 4, 5, 3, 2, 0, 6, 3, 5, 6, 4, 4, 2, 6, 0, 6, 3,\n",
       "       3, 1, 0, 2, 3, 0, 4, 0, 1, 4, 4, 2, 3, 0, 2, 3, 3, 2, 0, 0, 1, 6,\n",
       "       1, 1, 4, 0, 1, 0, 1, 4, 3, 2, 0, 4, 5, 2, 2, 4, 3, 0, 0, 2, 2, 2,\n",
       "       1, 4, 5, 5, 3, 6, 1, 3, 5, 6, 3, 3, 1, 1, 3, 3, 2, 4, 0, 3, 3, 1,\n",
       "       1, 4, 1, 1, 0, 0, 3, 0, 0, 3, 3, 2, 5, 4, 2, 5, 3, 3, 3, 0, 0, 1,\n",
       "       1, 1, 6, 0, 2, 1, 0, 3, 0, 5, 1, 5, 3, 1, 0, 2, 5, 2, 4, 0, 2, 3,\n",
       "       0, 0, 5, 1, 0, 1, 4, 2, 2, 3, 1, 0, 2, 2, 2, 2, 5, 3, 3, 5, 2, 2,\n",
       "       3, 2, 1, 2, 1, 3, 4, 6, 5, 0, 3, 0, 3, 5, 3, 5, 1, 2, 1, 1, 0, 0,\n",
       "       3, 6, 4, 4, 0, 6, 2, 4, 1, 4, 6, 3, 1, 3, 0, 0, 1, 2, 2, 4, 2, 1,\n",
       "       0, 0, 0, 0, 2, 1, 3, 0, 0, 1, 2, 4, 1, 0, 3, 3, 5, 1, 4, 1, 0, 1,\n",
       "       3, 0, 0, 1, 0, 4, 2, 1, 1, 1, 0, 0, 0, 2, 2, 0, 3, 4, 4, 2, 3, 2,\n",
       "       6, 2, 0, 5, 1, 6, 3, 1, 0, 0, 2, 2, 0, 3, 2, 4, 3, 6, 6, 6, 5, 3,\n",
       "       1, 3, 0, 4, 1, 0, 6, 1, 2, 4, 2, 2, 0, 3])"
      ]
     },
     "execution_count": 12,
     "metadata": {},
     "output_type": "execute_result"
    }
   ],
   "source": [
    "knn1=KNeighborsClassifier()\n",
    "knn1.fit(x_train,y_train)\n",
    "y_predict1=knn1.predict(x_test)\n",
    "y_predict1"
   ]
  },
  {
   "cell_type": "code",
   "execution_count": 13,
   "metadata": {},
   "outputs": [
    {
     "data": {
      "text/plain": [
       "33.33333333333333"
      ]
     },
     "execution_count": 13,
     "metadata": {},
     "output_type": "execute_result"
    }
   ],
   "source": [
    "knn_accuracy1=accuracy_score(y_test,y_predict1)*100\n",
    "knn_accuracy1"
   ]
  },
  {
   "cell_type": "code",
   "execution_count": 14,
   "metadata": {},
   "outputs": [
    {
     "data": {
      "text/plain": [
       "{'0': {'precision': 0.421875,\n",
       "  'recall': 0.4909090909090909,\n",
       "  'f1-score': 0.45378151260504196,\n",
       "  'support': 55},\n",
       " '1': {'precision': 0.17857142857142858,\n",
       "  'recall': 0.35714285714285715,\n",
       "  'f1-score': 0.2380952380952381,\n",
       "  'support': 28},\n",
       " '2': {'precision': 0.37254901960784315,\n",
       "  'recall': 0.4222222222222222,\n",
       "  'f1-score': 0.3958333333333333,\n",
       "  'support': 45},\n",
       " '3': {'precision': 0.2545454545454545,\n",
       "  'recall': 0.4,\n",
       "  'f1-score': 0.31111111111111106,\n",
       "  'support': 35},\n",
       " '4': {'precision': 0.41935483870967744,\n",
       "  'recall': 0.29545454545454547,\n",
       "  'f1-score': 0.3466666666666667,\n",
       "  'support': 44},\n",
       " '5': {'precision': 0.30434782608695654,\n",
       "  'recall': 0.14583333333333334,\n",
       "  'f1-score': 0.19718309859154928,\n",
       "  'support': 48},\n",
       " '6': {'precision': 0.5,\n",
       "  'recall': 0.2222222222222222,\n",
       "  'f1-score': 0.30769230769230765,\n",
       "  'support': 45},\n",
       " 'accuracy': 0.3333333333333333,\n",
       " 'macro avg': {'precision': 0.3501776525030515,\n",
       "  'recall': 0.3333977530406102,\n",
       "  'f1-score': 0.3214804668707497,\n",
       "  'support': 300},\n",
       " 'weighted avg': {'precision': 0.3647907678228119,\n",
       "  'recall': 0.3333333333333333,\n",
       "  'f1-score': 0.32963438220238134,\n",
       "  'support': 300}}"
      ]
     },
     "execution_count": 14,
     "metadata": {},
     "output_type": "execute_result"
    }
   ],
   "source": [
    "report=classification_report(y_test,y_predict1,output_dict=True)\n",
    "report"
   ]
  },
  {
   "cell_type": "code",
   "execution_count": 15,
   "metadata": {},
   "outputs": [
    {
     "data": {
      "text/html": [
       "<div>\n",
       "<style scoped>\n",
       "    .dataframe tbody tr th:only-of-type {\n",
       "        vertical-align: middle;\n",
       "    }\n",
       "\n",
       "    .dataframe tbody tr th {\n",
       "        vertical-align: top;\n",
       "    }\n",
       "\n",
       "    .dataframe thead th {\n",
       "        text-align: right;\n",
       "    }\n",
       "</style>\n",
       "<table border=\"1\" class=\"dataframe\">\n",
       "  <thead>\n",
       "    <tr style=\"text-align: right;\">\n",
       "      <th>Predicted</th>\n",
       "      <th>0</th>\n",
       "      <th>1</th>\n",
       "      <th>2</th>\n",
       "      <th>3</th>\n",
       "      <th>4</th>\n",
       "      <th>5</th>\n",
       "      <th>6</th>\n",
       "    </tr>\n",
       "    <tr>\n",
       "      <th>Actual</th>\n",
       "      <th></th>\n",
       "      <th></th>\n",
       "      <th></th>\n",
       "      <th></th>\n",
       "      <th></th>\n",
       "      <th></th>\n",
       "      <th></th>\n",
       "    </tr>\n",
       "  </thead>\n",
       "  <tbody>\n",
       "    <tr>\n",
       "      <th>0</th>\n",
       "      <td>27</td>\n",
       "      <td>4</td>\n",
       "      <td>5</td>\n",
       "      <td>8</td>\n",
       "      <td>2</td>\n",
       "      <td>4</td>\n",
       "      <td>5</td>\n",
       "    </tr>\n",
       "    <tr>\n",
       "      <th>1</th>\n",
       "      <td>6</td>\n",
       "      <td>10</td>\n",
       "      <td>0</td>\n",
       "      <td>6</td>\n",
       "      <td>2</td>\n",
       "      <td>1</td>\n",
       "      <td>3</td>\n",
       "    </tr>\n",
       "    <tr>\n",
       "      <th>2</th>\n",
       "      <td>9</td>\n",
       "      <td>6</td>\n",
       "      <td>19</td>\n",
       "      <td>3</td>\n",
       "      <td>2</td>\n",
       "      <td>4</td>\n",
       "      <td>2</td>\n",
       "    </tr>\n",
       "    <tr>\n",
       "      <th>3</th>\n",
       "      <td>7</td>\n",
       "      <td>7</td>\n",
       "      <td>2</td>\n",
       "      <td>14</td>\n",
       "      <td>2</td>\n",
       "      <td>3</td>\n",
       "      <td>0</td>\n",
       "    </tr>\n",
       "    <tr>\n",
       "      <th>4</th>\n",
       "      <td>4</td>\n",
       "      <td>9</td>\n",
       "      <td>7</td>\n",
       "      <td>7</td>\n",
       "      <td>13</td>\n",
       "      <td>4</td>\n",
       "      <td>0</td>\n",
       "    </tr>\n",
       "    <tr>\n",
       "      <th>5</th>\n",
       "      <td>7</td>\n",
       "      <td>2</td>\n",
       "      <td>16</td>\n",
       "      <td>7</td>\n",
       "      <td>9</td>\n",
       "      <td>7</td>\n",
       "      <td>0</td>\n",
       "    </tr>\n",
       "    <tr>\n",
       "      <th>6</th>\n",
       "      <td>4</td>\n",
       "      <td>18</td>\n",
       "      <td>2</td>\n",
       "      <td>10</td>\n",
       "      <td>1</td>\n",
       "      <td>0</td>\n",
       "      <td>10</td>\n",
       "    </tr>\n",
       "  </tbody>\n",
       "</table>\n",
       "</div>"
      ],
      "text/plain": [
       "Predicted   0   1   2   3   4  5   6\n",
       "Actual                              \n",
       "0          27   4   5   8   2  4   5\n",
       "1           6  10   0   6   2  1   3\n",
       "2           9   6  19   3   2  4   2\n",
       "3           7   7   2  14   2  3   0\n",
       "4           4   9   7   7  13  4   0\n",
       "5           7   2  16   7   9  7   0\n",
       "6           4  18   2  10   1  0  10"
      ]
     },
     "execution_count": 15,
     "metadata": {},
     "output_type": "execute_result"
    }
   ],
   "source": [
    "confusion_matrix_knn = pd.crosstab(y_test , y_predict1, rownames=['Actual'], colnames=['Predicted'])\n",
    "confusion_matrix_knn"
   ]
  },
  {
   "cell_type": "code",
   "execution_count": 16,
   "metadata": {},
   "outputs": [
    {
     "data": {
      "image/png": "[encoded data removed]",
      "text/plain": [
       "<Figure size 432x288 with 2 Axes>"
      ]
     },
     "metadata": {
      "needs_background": "light"
     },
     "output_type": "display_data"
    }
   ],
   "source": [
    "output=['0','1','2','3','4','5','6']\n",
    "sns.heatmap(confusion_matrix_knn,square=True, annot=True,cmap=\"YlGn\",xticklabels=output,yticklabels=output,fmt=\".0f\")\n",
    "plt.ylabel(\"Actual values\");\n",
    "plt.xlabel(\"Pedicted Values\");"
   ]
  },
  {
   "cell_type": "code",
   "execution_count": null,
   "metadata": {},
   "outputs": [],
   "source": []
  },
  {
   "cell_type": "code",
   "execution_count": null,
   "metadata": {},
   "outputs": [],
   "source": []
  }
 ],
 "metadata": {
  "kernelspec": {
   "display_name": "Python 3",
   "language": "python",
   "name": "python3"
  },
  "language_info": {
   "codemirror_mode": {
    "name": "ipython",
    "version": 3
   },
   "file_extension": ".py",
   "mimetype": "text/x-python",
   "name": "python",
   "nbconvert_exporter": "python",
   "pygments_lexer": "ipython3",
   "version": "3.7.7"
  }
 },
 "nbformat": 4,
 "nbformat_minor": 4
}
