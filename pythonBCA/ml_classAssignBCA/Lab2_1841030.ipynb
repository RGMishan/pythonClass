{
  "nbformat": 4,
  "nbformat_minor": 0,
  "metadata": {
    "colab": {
      "name": "Lab2_1841030.ipynb",
      "provenance": [],
      "collapsed_sections": [],
      "authorship_tag": "ABX9TyMFB3koPeGZM0o0p3tiajae",
      "include_colab_link": true
    },
    "kernelspec": {
      "name": "python3",
      "display_name": "Python 3"
    }
  },
  "cells": [
    {
      "cell_type": "markdown",
      "metadata": {
        "id": "view-in-github",
        "colab_type": "text"
      },
      "source": [
        "<a href=\"https://colab.research.google.com/github/RGMishan/pythonClass/blob/master/Lab2_1841030.ipynb\" target=\"_parent\"><img src=\"https://colab.research.google.com/assets/colab-badge.svg\" alt=\"Open In Colab\"/></a>"
      ]
    },
    {
      "cell_type": "code",
      "metadata": {
        "id": "bAKU_x00pQ5_",
        "colab_type": "code",
        "colab": {}
      },
      "source": [
        "import pandas as pd\n",
        "import numpy as np\n",
        "import matplotlib.pyplot as plt"
      ],
      "execution_count": 0,
      "outputs": []
    },
    {
      "cell_type": "code",
      "metadata": {
        "id": "uEK25aSdqILa",
        "colab_type": "code",
        "colab": {}
      },
      "source": [
        "from sklearn.datasets import load_wine\n",
        "data = load_wine()\n"
      ],
      "execution_count": 0,
      "outputs": []
    },
    {
      "cell_type": "markdown",
      "metadata": {
        "id": "Nr5O7vbvq6Vp",
        "colab_type": "text"
      },
      "source": [
        "Converting DataFrame"
      ]
    },
    {
      "cell_type": "code",
      "metadata": {
        "id": "8qYQqzqJqJKT",
        "colab_type": "code",
        "colab": {
          "base_uri": "https://localhost:8080/",
          "height": 215
        },
        "outputId": "8733cb60-8a69-4ecf-de5a-e5225bd0b291"
      },
      "source": [
        "data = pd.DataFrame(data=np.c_[data['data'],data['target']],\n",
        "columns=data['feature_names']+['target'])\n",
        "\n",
        "data.head()"
      ],
      "execution_count": 3,
      "outputs": [
        {
          "output_type": "execute_result",
          "data": {
            "text/html": [
              "<div>\n",
              "<style scoped>\n",
              "    .dataframe tbody tr th:only-of-type {\n",
              "        vertical-align: middle;\n",
              "    }\n",
              "\n",
              "    .dataframe tbody tr th {\n",
              "        vertical-align: top;\n",
              "    }\n",
              "\n",
              "    .dataframe thead th {\n",
              "        text-align: right;\n",
              "    }\n",
              "</style>\n",
              "<table border=\"1\" class=\"dataframe\">\n",
              "  <thead>\n",
              "    <tr style=\"text-align: right;\">\n",
              "      <th></th>\n",
              "      <th>alcohol</th>\n",
              "      <th>malic_acid</th>\n",
              "      <th>ash</th>\n",
              "      <th>alcalinity_of_ash</th>\n",
              "      <th>magnesium</th>\n",
              "      <th>total_phenols</th>\n",
              "      <th>flavanoids</th>\n",
              "      <th>nonflavanoid_phenols</th>\n",
              "      <th>proanthocyanins</th>\n",
              "      <th>color_intensity</th>\n",
              "      <th>hue</th>\n",
              "      <th>od280/od315_of_diluted_wines</th>\n",
              "      <th>proline</th>\n",
              "      <th>target</th>\n",
              "    </tr>\n",
              "  </thead>\n",
              "  <tbody>\n",
              "    <tr>\n",
              "      <th>0</th>\n",
              "      <td>14.23</td>\n",
              "      <td>1.71</td>\n",
              "      <td>2.43</td>\n",
              "      <td>15.6</td>\n",
              "      <td>127.0</td>\n",
              "      <td>2.80</td>\n",
              "      <td>3.06</td>\n",
              "      <td>0.28</td>\n",
              "      <td>2.29</td>\n",
              "      <td>5.64</td>\n",
              "      <td>1.04</td>\n",
              "      <td>3.92</td>\n",
              "      <td>1065.0</td>\n",
              "      <td>0.0</td>\n",
              "    </tr>\n",
              "    <tr>\n",
              "      <th>1</th>\n",
              "      <td>13.20</td>\n",
              "      <td>1.78</td>\n",
              "      <td>2.14</td>\n",
              "      <td>11.2</td>\n",
              "      <td>100.0</td>\n",
              "      <td>2.65</td>\n",
              "      <td>2.76</td>\n",
              "      <td>0.26</td>\n",
              "      <td>1.28</td>\n",
              "      <td>4.38</td>\n",
              "      <td>1.05</td>\n",
              "      <td>3.40</td>\n",
              "      <td>1050.0</td>\n",
              "      <td>0.0</td>\n",
              "    </tr>\n",
              "    <tr>\n",
              "      <th>2</th>\n",
              "      <td>13.16</td>\n",
              "      <td>2.36</td>\n",
              "      <td>2.67</td>\n",
              "      <td>18.6</td>\n",
              "      <td>101.0</td>\n",
              "      <td>2.80</td>\n",
              "      <td>3.24</td>\n",
              "      <td>0.30</td>\n",
              "      <td>2.81</td>\n",
              "      <td>5.68</td>\n",
              "      <td>1.03</td>\n",
              "      <td>3.17</td>\n",
              "      <td>1185.0</td>\n",
              "      <td>0.0</td>\n",
              "    </tr>\n",
              "    <tr>\n",
              "      <th>3</th>\n",
              "      <td>14.37</td>\n",
              "      <td>1.95</td>\n",
              "      <td>2.50</td>\n",
              "      <td>16.8</td>\n",
              "      <td>113.0</td>\n",
              "      <td>3.85</td>\n",
              "      <td>3.49</td>\n",
              "      <td>0.24</td>\n",
              "      <td>2.18</td>\n",
              "      <td>7.80</td>\n",
              "      <td>0.86</td>\n",
              "      <td>3.45</td>\n",
              "      <td>1480.0</td>\n",
              "      <td>0.0</td>\n",
              "    </tr>\n",
              "    <tr>\n",
              "      <th>4</th>\n",
              "      <td>13.24</td>\n",
              "      <td>2.59</td>\n",
              "      <td>2.87</td>\n",
              "      <td>21.0</td>\n",
              "      <td>118.0</td>\n",
              "      <td>2.80</td>\n",
              "      <td>2.69</td>\n",
              "      <td>0.39</td>\n",
              "      <td>1.82</td>\n",
              "      <td>4.32</td>\n",
              "      <td>1.04</td>\n",
              "      <td>2.93</td>\n",
              "      <td>735.0</td>\n",
              "      <td>0.0</td>\n",
              "    </tr>\n",
              "  </tbody>\n",
              "</table>\n",
              "</div>"
            ],
            "text/plain": [
              "   alcohol  malic_acid   ash  ...  od280/od315_of_diluted_wines  proline  target\n",
              "0    14.23        1.71  2.43  ...                          3.92   1065.0     0.0\n",
              "1    13.20        1.78  2.14  ...                          3.40   1050.0     0.0\n",
              "2    13.16        2.36  2.67  ...                          3.17   1185.0     0.0\n",
              "3    14.37        1.95  2.50  ...                          3.45   1480.0     0.0\n",
              "4    13.24        2.59  2.87  ...                          2.93    735.0     0.0\n",
              "\n",
              "[5 rows x 14 columns]"
            ]
          },
          "metadata": {
            "tags": []
          },
          "execution_count": 3
        }
      ]
    },
    {
      "cell_type": "code",
      "metadata": {
        "id": "XieSq3uPqog9",
        "colab_type": "code",
        "colab": {
          "base_uri": "https://localhost:8080/",
          "height": 202
        },
        "outputId": "45fbe503-5036-40f3-874f-b910d2308879"
      },
      "source": [
        "data['target'].values"
      ],
      "execution_count": 4,
      "outputs": [
        {
          "output_type": "execute_result",
          "data": {
            "text/plain": [
              "array([0., 0., 0., 0., 0., 0., 0., 0., 0., 0., 0., 0., 0., 0., 0., 0., 0.,\n",
              "       0., 0., 0., 0., 0., 0., 0., 0., 0., 0., 0., 0., 0., 0., 0., 0., 0.,\n",
              "       0., 0., 0., 0., 0., 0., 0., 0., 0., 0., 0., 0., 0., 0., 0., 0., 0.,\n",
              "       0., 0., 0., 0., 0., 0., 0., 0., 1., 1., 1., 1., 1., 1., 1., 1., 1.,\n",
              "       1., 1., 1., 1., 1., 1., 1., 1., 1., 1., 1., 1., 1., 1., 1., 1., 1.,\n",
              "       1., 1., 1., 1., 1., 1., 1., 1., 1., 1., 1., 1., 1., 1., 1., 1., 1.,\n",
              "       1., 1., 1., 1., 1., 1., 1., 1., 1., 1., 1., 1., 1., 1., 1., 1., 1.,\n",
              "       1., 1., 1., 1., 1., 1., 1., 1., 1., 1., 1., 2., 2., 2., 2., 2., 2.,\n",
              "       2., 2., 2., 2., 2., 2., 2., 2., 2., 2., 2., 2., 2., 2., 2., 2., 2.,\n",
              "       2., 2., 2., 2., 2., 2., 2., 2., 2., 2., 2., 2., 2., 2., 2., 2., 2.,\n",
              "       2., 2., 2., 2., 2., 2., 2., 2.])"
            ]
          },
          "metadata": {
            "tags": []
          },
          "execution_count": 4
        }
      ]
    },
    {
      "cell_type": "code",
      "metadata": {
        "id": "7mdr_KGurFzc",
        "colab_type": "code",
        "colab": {
          "base_uri": "https://localhost:8080/",
          "height": 269
        },
        "outputId": "a20e75f9-f5e3-4d95-f0da-89fdbb374403"
      },
      "source": [
        "data.isnull().any()"
      ],
      "execution_count": 5,
      "outputs": [
        {
          "output_type": "execute_result",
          "data": {
            "text/plain": [
              "alcohol                         False\n",
              "malic_acid                      False\n",
              "ash                             False\n",
              "alcalinity_of_ash               False\n",
              "magnesium                       False\n",
              "total_phenols                   False\n",
              "flavanoids                      False\n",
              "nonflavanoid_phenols            False\n",
              "proanthocyanins                 False\n",
              "color_intensity                 False\n",
              "hue                             False\n",
              "od280/od315_of_diluted_wines    False\n",
              "proline                         False\n",
              "target                          False\n",
              "dtype: bool"
            ]
          },
          "metadata": {
            "tags": []
          },
          "execution_count": 5
        }
      ]
    },
    {
      "cell_type": "code",
      "metadata": {
        "id": "wVxX3tBzrKp0",
        "colab_type": "code",
        "colab": {
          "base_uri": "https://localhost:8080/",
          "height": 101
        },
        "outputId": "40192ce3-cfbb-4305-bbca-a0dc396d5cdb"
      },
      "source": [
        "data.shape\n",
        "data.columns"
      ],
      "execution_count": 6,
      "outputs": [
        {
          "output_type": "execute_result",
          "data": {
            "text/plain": [
              "Index(['alcohol', 'malic_acid', 'ash', 'alcalinity_of_ash', 'magnesium',\n",
              "       'total_phenols', 'flavanoids', 'nonflavanoid_phenols',\n",
              "       'proanthocyanins', 'color_intensity', 'hue',\n",
              "       'od280/od315_of_diluted_wines', 'proline', 'target'],\n",
              "      dtype='object')"
            ]
          },
          "metadata": {
            "tags": []
          },
          "execution_count": 6
        }
      ]
    },
    {
      "cell_type": "code",
      "metadata": {
        "id": "jlz10ogfrOoO",
        "colab_type": "code",
        "colab": {}
      },
      "source": [
        "x = data.drop(['target'],axis=1)\n",
        "y = data['target']"
      ],
      "execution_count": 0,
      "outputs": []
    },
    {
      "cell_type": "code",
      "metadata": {
        "id": "zX_X6tSssGw5",
        "colab_type": "code",
        "colab": {
          "base_uri": "https://localhost:8080/",
          "height": 34
        },
        "outputId": "22594f10-1980-449a-8a60-fe39fb272614"
      },
      "source": [
        "x.shape\n",
        "y.shape"
      ],
      "execution_count": 8,
      "outputs": [
        {
          "output_type": "execute_result",
          "data": {
            "text/plain": [
              "(178,)"
            ]
          },
          "metadata": {
            "tags": []
          },
          "execution_count": 8
        }
      ]
    },
    {
      "cell_type": "code",
      "metadata": {
        "id": "CIRcj7BfsJuo",
        "colab_type": "code",
        "colab": {
          "base_uri": "https://localhost:8080/",
          "height": 252
        },
        "outputId": "695069c3-c43a-4c81-d18e-78c05886e236"
      },
      "source": [
        "x.head"
      ],
      "execution_count": 9,
      "outputs": [
        {
          "output_type": "execute_result",
          "data": {
            "text/plain": [
              "<bound method NDFrame.head of      alcohol  malic_acid   ash  ...   hue  od280/od315_of_diluted_wines  proline\n",
              "0      14.23        1.71  2.43  ...  1.04                          3.92   1065.0\n",
              "1      13.20        1.78  2.14  ...  1.05                          3.40   1050.0\n",
              "2      13.16        2.36  2.67  ...  1.03                          3.17   1185.0\n",
              "3      14.37        1.95  2.50  ...  0.86                          3.45   1480.0\n",
              "4      13.24        2.59  2.87  ...  1.04                          2.93    735.0\n",
              "..       ...         ...   ...  ...   ...                           ...      ...\n",
              "173    13.71        5.65  2.45  ...  0.64                          1.74    740.0\n",
              "174    13.40        3.91  2.48  ...  0.70                          1.56    750.0\n",
              "175    13.27        4.28  2.26  ...  0.59                          1.56    835.0\n",
              "176    13.17        2.59  2.37  ...  0.60                          1.62    840.0\n",
              "177    14.13        4.10  2.74  ...  0.61                          1.60    560.0\n",
              "\n",
              "[178 rows x 13 columns]>"
            ]
          },
          "metadata": {
            "tags": []
          },
          "execution_count": 9
        }
      ]
    },
    {
      "cell_type": "markdown",
      "metadata": {
        "id": "nTyxCZfxsWdo",
        "colab_type": "text"
      },
      "source": [
        "Training Model Now"
      ]
    },
    {
      "cell_type": "code",
      "metadata": {
        "id": "kRk_IA-RsKSJ",
        "colab_type": "code",
        "colab": {}
      },
      "source": [
        "from sklearn.neighbors import KNeighborsClassifier\n",
        "from sklearn.model_selection import train_test_split"
      ],
      "execution_count": 0,
      "outputs": []
    },
    {
      "cell_type": "code",
      "metadata": {
        "id": "oNxctL15sKdo",
        "colab_type": "code",
        "colab": {
          "base_uri": "https://localhost:8080/",
          "height": 34
        },
        "outputId": "29b4737a-d971-4f6a-cda8-d74cef56286e"
      },
      "source": [
        "X_train,X_test,Y_train,Y_test = train_test_split(x,y,test_size=0.2,random_state=50)\n",
        "model_no_scaling = KNeighborsClassifier(n_neighbors=5)\n",
        "model_no_scaling.fit(X_train,Y_train)\n",
        "model_no_scaling.score(X_test,Y_test)"
      ],
      "execution_count": 11,
      "outputs": [
        {
          "output_type": "execute_result",
          "data": {
            "text/plain": [
              "0.6666666666666666"
            ]
          },
          "metadata": {
            "tags": []
          },
          "execution_count": 11
        }
      ]
    },
    {
      "cell_type": "markdown",
      "metadata": {
        "id": "yOkqkI9KtPlU",
        "colab_type": "text"
      },
      "source": [
        "Checking Training and Testsing Result"
      ]
    },
    {
      "cell_type": "code",
      "metadata": {
        "id": "7yZIZEz8sK0H",
        "colab_type": "code",
        "colab": {
          "base_uri": "https://localhost:8080/",
          "height": 50
        },
        "outputId": "4d2b5cf3-d800-469b-eadd-35de6600fa91"
      },
      "source": [
        "print(\"The Training Accuracy is : {}\".format(model_no_scaling.score(X_train,Y_train)))\n",
        "print(\"The Testing Accuracy is : {} \".format(model_no_scaling.score(X_test,Y_test)))"
      ],
      "execution_count": 12,
      "outputs": [
        {
          "output_type": "stream",
          "text": [
            "The Training Accuracy is : 0.7887323943661971\n",
            "The Testing Accuracy is : 0.6666666666666666 \n"
          ],
          "name": "stdout"
        }
      ]
    },
    {
      "cell_type": "code",
      "metadata": {
        "id": "hm7l4OnAtynX",
        "colab_type": "code",
        "colab": {
          "base_uri": "https://localhost:8080/",
          "height": 235
        },
        "outputId": "52ca354d-804d-4f88-ab56-0b6595a2fe43"
      },
      "source": [
        "from sklearn.preprocessing import StandardScaler\n",
        "scaler = StandardScaler()\n",
        "X_scaled=scaler.fit_transform(x)\n",
        "X_scaled"
      ],
      "execution_count": 13,
      "outputs": [
        {
          "output_type": "execute_result",
          "data": {
            "text/plain": [
              "array([[ 1.51861254, -0.5622498 ,  0.23205254, ...,  0.36217728,\n",
              "         1.84791957,  1.01300893],\n",
              "       [ 0.24628963, -0.49941338, -0.82799632, ...,  0.40605066,\n",
              "         1.1134493 ,  0.96524152],\n",
              "       [ 0.19687903,  0.02123125,  1.10933436, ...,  0.31830389,\n",
              "         0.78858745,  1.39514818],\n",
              "       ...,\n",
              "       [ 0.33275817,  1.74474449, -0.38935541, ..., -1.61212515,\n",
              "        -1.48544548,  0.28057537],\n",
              "       [ 0.20923168,  0.22769377,  0.01273209, ..., -1.56825176,\n",
              "        -1.40069891,  0.29649784],\n",
              "       [ 1.39508604,  1.58316512,  1.36520822, ..., -1.52437837,\n",
              "        -1.42894777, -0.59516041]])"
            ]
          },
          "metadata": {
            "tags": []
          },
          "execution_count": 13
        }
      ]
    },
    {
      "cell_type": "markdown",
      "metadata": {
        "id": "Rmvu22LFuiuu",
        "colab_type": "text"
      },
      "source": [
        "Training with scaling the model"
      ]
    },
    {
      "cell_type": "markdown",
      "metadata": {
        "id": "KAtlWxY8uzli",
        "colab_type": "text"
      },
      "source": [
        "i) First Checking The Accuracy"
      ]
    },
    {
      "cell_type": "code",
      "metadata": {
        "id": "hGYnnX0Vun9K",
        "colab_type": "code",
        "colab": {
          "base_uri": "https://localhost:8080/",
          "height": 34
        },
        "outputId": "3a8b4fe1-e020-4e95-a7e4-73fcce831ace"
      },
      "source": [
        "X_scaled_train,X_scaled_test,Y_train,Y_test = train_test_split(X_scaled,y,test_size=0.2,random_state=50)\n",
        "model_with_scaling = KNeighborsClassifier(n_neighbors=5)\n",
        "model_with_scaling.fit(X_scaled_train,Y_train)\n",
        "model_with_scaling.score(X_scaled_test,Y_test)"
      ],
      "execution_count": 14,
      "outputs": [
        {
          "output_type": "execute_result",
          "data": {
            "text/plain": [
              "0.9444444444444444"
            ]
          },
          "metadata": {
            "tags": []
          },
          "execution_count": 14
        }
      ]
    },
    {
      "cell_type": "code",
      "metadata": {
        "id": "aqoIdLAUu9Oy",
        "colab_type": "code",
        "colab": {
          "base_uri": "https://localhost:8080/",
          "height": 50
        },
        "outputId": "48c343ba-61a9-4daf-e5a4-6b8628fb8f15"
      },
      "source": [
        "print(\"TRAIN ACCURACY : {}\".format(model_with_scaling.score(X_scaled_train,Y_train)))\n",
        "print(\"TEST ACCURACY : {} \".format(model_with_scaling.score(X_scaled_test,Y_test)))"
      ],
      "execution_count": 15,
      "outputs": [
        {
          "output_type": "stream",
          "text": [
            "TRAIN ACCURACY : 0.9929577464788732\n",
            "TEST ACCURACY : 0.9444444444444444 \n"
          ],
          "name": "stdout"
        }
      ]
    },
    {
      "cell_type": "markdown",
      "metadata": {
        "id": "HCDTJusUvkpE",
        "colab_type": "text"
      },
      "source": [
        "Accuracy Increases By 20% so we can conclude scaling data can increase accuracy."
      ]
    },
    {
      "cell_type": "markdown",
      "metadata": {
        "id": "QTghtGomvs-t",
        "colab_type": "text"
      },
      "source": [
        "ii) Impact of K Value on Accuracy"
      ]
    },
    {
      "cell_type": "code",
      "metadata": {
        "id": "OAok9HMdvqwj",
        "colab_type": "code",
        "colab": {
          "base_uri": "https://localhost:8080/",
          "height": 185
        },
        "outputId": "6e1873df-d7e2-492a-9af8-6043473c075d"
      },
      "source": [
        "k = np.arange(1,100,1)\n",
        "score_values=[]\n",
        "for i in k:\n",
        "  model_with_scaling = KNeighborsClassifier(n_neighbors=i)\n",
        "  model_with_scaling.fit(X_scaled_train,Y_train)\n",
        "  score_values.append(model_with_scaling.score(X_scaled_test,Y_test))\n",
        "\n",
        "score_values[:10]"
      ],
      "execution_count": 16,
      "outputs": [
        {
          "output_type": "execute_result",
          "data": {
            "text/plain": [
              "[0.9444444444444444,\n",
              " 0.9444444444444444,\n",
              " 0.9444444444444444,\n",
              " 0.9444444444444444,\n",
              " 0.9444444444444444,\n",
              " 0.9444444444444444,\n",
              " 0.9444444444444444,\n",
              " 0.9722222222222222,\n",
              " 0.9722222222222222,\n",
              " 0.9722222222222222]"
            ]
          },
          "metadata": {
            "tags": []
          },
          "execution_count": 16
        }
      ]
    },
    {
      "cell_type": "code",
      "metadata": {
        "id": "gu7m9uqrwoBN",
        "colab_type": "code",
        "colab": {}
      },
      "source": [
        "score_array = np.array(score_values,dtype=\"float32\")\n"
      ],
      "execution_count": 0,
      "outputs": []
    },
    {
      "cell_type": "code",
      "metadata": {
        "id": "xF12dA3uwthl",
        "colab_type": "code",
        "colab": {
          "base_uri": "https://localhost:8080/",
          "height": 623
        },
        "outputId": "3db5d2a0-37a8-4d4f-e5ad-56438303471b"
      },
      "source": [
        "# Visulalization of Accuracy of model according to k values\n",
        "plt.figure(figsize=(12,10))\n",
        "plt.plot(k,score_array,c='black')\n",
        "plt.xlabel(\"K (Nearest Neighbours)\")\n",
        "plt.ylabel(\"Accuracy\")"
      ],
      "execution_count": 18,
      "outputs": [
        {
          "output_type": "execute_result",
          "data": {
            "text/plain": [
              "Text(0, 0.5, 'Accuracy')"
            ]
          },
          "metadata": {
            "tags": []
          },
          "execution_count": 18
        },
        {
          "output_type": "display_data",
          "data": {
            "image/png": "[encoded data removed]",
            "text/plain": [
              "<Figure size 864x720 with 1 Axes>"
            ]
          },
          "metadata": {
            "tags": [],
            "needs_background": "light"
          }
        }
      ]
    },
    {
      "cell_type": "markdown",
      "metadata": {
        "id": "i_zSG_xpxTbO",
        "colab_type": "text"
      },
      "source": [
        " Impact of reducing/increasing training data on accuracy"
      ]
    },
    {
      "cell_type": "markdown",
      "metadata": {
        "id": "XW1zRLXMxXR6",
        "colab_type": "text"
      },
      "source": [
        "We used a ratio of 80:20 in the before model now lets train data with different ratio.  "
      ]
    },
    {
      "cell_type": "code",
      "metadata": {
        "id": "uFTHHZyPxUrz",
        "colab_type": "code",
        "colab": {
          "base_uri": "https://localhost:8080/",
          "height": 168
        },
        "outputId": "8a96fcbf-196a-402a-a210-6d576a877c1e"
      },
      "source": [
        "r = np.arange(0.1,1,0.1)\n",
        "score_impact=[]\n",
        "for i in r:\n",
        " X_train_change,X_test_change,Y_train_change,Y_test_change = train_test_split(X_scaled,y,test_size=0.3,random_state=50)\n",
        "\n",
        " model_with_scaling = KNeighborsClassifier(n_neighbors=5)\n",
        " model_with_scaling.fit(X_scaled_train,Y_train)\n",
        " \n",
        " score_impact.append(model_with_scaling.score(X_test_change,Y_test_change))\n",
        "\n",
        "score_impact"
      ],
      "execution_count": 19,
      "outputs": [
        {
          "output_type": "execute_result",
          "data": {
            "text/plain": [
              "[0.9629629629629629,\n",
              " 0.9629629629629629,\n",
              " 0.9629629629629629,\n",
              " 0.9629629629629629,\n",
              " 0.9629629629629629,\n",
              " 0.9629629629629629,\n",
              " 0.9629629629629629,\n",
              " 0.9629629629629629,\n",
              " 0.9629629629629629]"
            ]
          },
          "metadata": {
            "tags": []
          },
          "execution_count": 19
        }
      ]
    },
    {
      "cell_type": "code",
      "metadata": {
        "id": "GQyNjK6tyBSo",
        "colab_type": "code",
        "colab": {
          "base_uri": "https://localhost:8080/",
          "height": 50
        },
        "outputId": "448ba4ed-ccaf-4452-863e-8a2575ac2b3e"
      },
      "source": [
        "score_change_array = np.array(score_impact,dtype=\"float32\")\n",
        "score_change_array"
      ],
      "execution_count": 20,
      "outputs": [
        {
          "output_type": "execute_result",
          "data": {
            "text/plain": [
              "array([0.962963, 0.962963, 0.962963, 0.962963, 0.962963, 0.962963,\n",
              "       0.962963, 0.962963, 0.962963], dtype=float32)"
            ]
          },
          "metadata": {
            "tags": []
          },
          "execution_count": 20
        }
      ]
    },
    {
      "cell_type": "code",
      "metadata": {
        "id": "91bs1SQJyEMk",
        "colab_type": "code",
        "colab": {
          "base_uri": "https://localhost:8080/",
          "height": 459
        },
        "outputId": "22b92ba6-c9e6-4a0a-c7af-49a6302f52f4"
      },
      "source": [
        "# Visulalization of Accuracy of model\n",
        "plt.figure(figsize=(10,7))\n",
        "plt.plot(r,score_change_array,c='black')\n",
        "plt.xlabel(\"Size \")\n",
        "plt.ylabel(\"Accuracy \")"
      ],
      "execution_count": 21,
      "outputs": [
        {
          "output_type": "execute_result",
          "data": {
            "text/plain": [
              "Text(0, 0.5, 'Accuracy ')"
            ]
          },
          "metadata": {
            "tags": []
          },
          "execution_count": 21
        },
        {
          "output_type": "display_data",
          "data": {
            "image/png": "[encoded data removed]",
            "text/plain": [
              "<Figure size 720x504 with 1 Axes>"
            ]
          },
          "metadata": {
            "tags": [],
            "needs_background": "light"
          }
        }
      ]
    },
    {
      "cell_type": "markdown",
      "metadata": {
        "id": "jh1MQClvy1jY",
        "colab_type": "text"
      },
      "source": [
        "4. Any one approach of analyzing the performance of KNN based on the vide\n",
        "For this we will be using one feature column to explain the performance of KNN algorithm."
      ]
    },
    {
      "cell_type": "code",
      "metadata": {
        "id": "bgKlRnaZyy6T",
        "colab_type": "code",
        "colab": {
          "base_uri": "https://localhost:8080/",
          "height": 458
        },
        "outputId": "6639b358-e690-4ef2-df25-dc9ce133e3dc"
      },
      "source": [
        "colours = ['black', 'orange', 'blue']\n",
        "species = [0,1,2]\n",
        "\n",
        "plt.figure(figsize=(10,7))\n",
        "for i in range (0,3):\n",
        " species_df = data[data['target'] == species[i]]\n",
        " plt.scatter(\n",
        " species_df['alcohol'],\n",
        " species_df['malic_acid'],\n",
        " color=colours[i],\n",
        " alpha=0.5,\n",
        " label=species[i]\n",
        " )\n",
        "plt.scatter(13.25,3,c=\"red\",marker=\"x\",s=100)\n",
        "plt.xlabel('Alcohol')\n",
        "plt.ylabel('Malic Acid')\n",
        "plt.title('Alcohol Vs. Malic Acid')\n",
        "plt.legend(loc='lower right')\n",
        "\n",
        "plt.show()"
      ],
      "execution_count": 22,
      "outputs": [
        {
          "output_type": "display_data",
          "data": {
            "image/png": "[encoded data removed]",
            "text/plain": [
              "<Figure size 720x504 with 1 Axes>"
            ]
          },
          "metadata": {
            "tags": [],
            "needs_background": "light"
          }
        }
      ]
    },
    {
      "cell_type": "markdown",
      "metadata": {
        "id": "tJeKfoalzH6f",
        "colab_type": "text"
      },
      "source": [
        "Here in this graph we have selected to feature from the \"wine\" dataset the \"alco\n",
        "data points are differentiated by target class (0,1,2).\n",
        "As we can see the 5 nearest neighbors for the point depicted by \"x\" , majority a\n",
        "classify the point \"x\" as class 2."
      ]
    }
  ]
}