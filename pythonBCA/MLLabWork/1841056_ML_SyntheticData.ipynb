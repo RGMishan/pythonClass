{
 "cells": [
  {
   "cell_type": "code",
   "execution_count": 1,
   "metadata": {},
   "outputs": [],
   "source": [
    "import sklearn\n",
    "from sklearn.datasets import make_classification,make_multilabel_classification\n",
    "import pandas as pd\n",
    "from sklearn.naive_bayes import CategoricalNB\n",
    "from sklearn.neighbors import KNeighborsClassifier\n",
    "from sklearn.model_selection import train_test_split\n",
    "from sklearn.metrics import confusion_matrix , accuracy_score, classification_report\n",
    "from sklearn import preprocessing\n",
    "from sklearn import metrics\n",
    "import seaborn as sns\n",
    "import numpy as np\n",
    "import pandas as pd\n",
    "import matplotlib.pyplot as plt\n",
    "from sklearn.naive_bayes import CategoricalNB\n",
    "from sklearn.model_selection import train_test_split, cross_val_score\n",
    "from sklearn.metrics import precision_recall_fscore_support\n",
    "from sklearn.metrics import confusion_matrix , accuracy_score, classification_report\n",
    "from sklearn import preprocessing\n",
    "from sklearn import metrics\n",
    "import seaborn as sns\n",
    "from sklearn.neighbors import KNeighborsClassifier\n",
    "from sklearn.dummy import DummyClassifier"
   ]
  },
  {
   "cell_type": "markdown",
   "metadata": {},
   "source": [
    "# Generating Dataset using make_classification"
   ]
  },
  {
   "cell_type": "markdown",
   "metadata": {},
   "source": [
    "## taking n=5 classes"
   ]
  },
  {
   "cell_type": "code",
   "execution_count": 6,
   "metadata": {},
   "outputs": [
    {
     "ename": "TypeError",
     "evalue": "'tuple' object is not callable",
     "output_type": "error",
     "traceback": [
      "\u001b[0;31m---------------------------------------------------------------------------\u001b[0m",
      "\u001b[0;31mTypeError\u001b[0m                                 Traceback (most recent call last)",
      "\u001b[0;32m<ipython-input-6-e6284867c38a>\u001b[0m in \u001b[0;36m<module>\u001b[0;34m\u001b[0m\n\u001b[1;32m      1\u001b[0m \u001b[0mX\u001b[0m\u001b[0;34m,\u001b[0m\u001b[0my\u001b[0m\u001b[0;34m=\u001b[0m\u001b[0mmake_classification\u001b[0m\u001b[0;34m(\u001b[0m\u001b[0mn_samples\u001b[0m\u001b[0;34m=\u001b[0m\u001b[0;36m1000\u001b[0m\u001b[0;34m,\u001b[0m\u001b[0mn_features\u001b[0m\u001b[0;34m=\u001b[0m\u001b[0;36m30\u001b[0m\u001b[0;34m,\u001b[0m\u001b[0mn_classes\u001b[0m\u001b[0;34m=\u001b[0m\u001b[0;36m5\u001b[0m\u001b[0;34m,\u001b[0m\u001b[0mn_informative\u001b[0m\u001b[0;34m=\u001b[0m\u001b[0;36m4\u001b[0m\u001b[0;34m)\u001b[0m\u001b[0;34m\u001b[0m\u001b[0;34m\u001b[0m\u001b[0m\n\u001b[0;32m----> 2\u001b[0;31m \u001b[0mX\u001b[0m\u001b[0;34m.\u001b[0m\u001b[0mshape\u001b[0m\u001b[0;34m(\u001b[0m\u001b[0;34m)\u001b[0m\u001b[0;34m\u001b[0m\u001b[0;34m\u001b[0m\u001b[0m\n\u001b[0m",
      "\u001b[0;31mTypeError\u001b[0m: 'tuple' object is not callable"
     ]
    }
   ],
   "source": [
    "X,y=make_classification(n_samples=1000,n_features=30,n_classes=5,n_informative=4)"
   ]
  },
  {
   "cell_type": "code",
   "execution_count": 9,
   "metadata": {},
   "outputs": [],
   "source": [
    "a=pd.DataFrame(data=X[1:,1:],index=X[1:,0],columns=X[0,1:])"
   ]
  },
  {
   "cell_type": "code",
   "execution_count": 11,
   "metadata": {},
   "outputs": [
    {
     "data": {
      "text/html": [
       "<div>\n",
       "<style scoped>\n",
       "    .dataframe tbody tr th:only-of-type {\n",
       "        vertical-align: middle;\n",
       "    }\n",
       "\n",
       "    .dataframe tbody tr th {\n",
       "        vertical-align: top;\n",
       "    }\n",
       "\n",
       "    .dataframe thead th {\n",
       "        text-align: right;\n",
       "    }\n",
       "</style>\n",
       "<table border=\"1\" class=\"dataframe\">\n",
       "  <thead>\n",
       "    <tr style=\"text-align: right;\">\n",
       "      <th></th>\n",
       "      <th>-0.996984</th>\n",
       "      <th>-0.112222</th>\n",
       "      <th>0.626185</th>\n",
       "      <th>-0.478867</th>\n",
       "      <th>0.737830</th>\n",
       "      <th>0.369100</th>\n",
       "      <th>-1.401894</th>\n",
       "      <th>0.077317</th>\n",
       "      <th>0.637625</th>\n",
       "      <th>0.876540</th>\n",
       "      <th>...</th>\n",
       "      <th>0.205934</th>\n",
       "      <th>-0.605992</th>\n",
       "      <th>0.370428</th>\n",
       "      <th>-1.200587</th>\n",
       "      <th>-0.351176</th>\n",
       "      <th>-1.705627</th>\n",
       "      <th>0.768274</th>\n",
       "      <th>2.082260</th>\n",
       "      <th>0.267221</th>\n",
       "      <th>0.143980</th>\n",
       "    </tr>\n",
       "  </thead>\n",
       "  <tbody>\n",
       "    <tr>\n",
       "      <th>-0.828489</th>\n",
       "      <td>-0.753715</td>\n",
       "      <td>0.417694</td>\n",
       "      <td>1.852847</td>\n",
       "      <td>0.969025</td>\n",
       "      <td>0.158776</td>\n",
       "      <td>0.400758</td>\n",
       "      <td>2.218523</td>\n",
       "      <td>-2.325915</td>\n",
       "      <td>-0.155717</td>\n",
       "      <td>-1.004587</td>\n",
       "      <td>...</td>\n",
       "      <td>-0.399146</td>\n",
       "      <td>0.449992</td>\n",
       "      <td>1.673172</td>\n",
       "      <td>0.602229</td>\n",
       "      <td>0.798724</td>\n",
       "      <td>0.910562</td>\n",
       "      <td>0.364193</td>\n",
       "      <td>1.426161</td>\n",
       "      <td>-0.339461</td>\n",
       "      <td>-1.109342</td>\n",
       "    </tr>\n",
       "    <tr>\n",
       "      <th>0.152423</th>\n",
       "      <td>0.008496</td>\n",
       "      <td>-0.190494</td>\n",
       "      <td>-0.547714</td>\n",
       "      <td>-0.638880</td>\n",
       "      <td>-0.771740</td>\n",
       "      <td>0.803135</td>\n",
       "      <td>0.736189</td>\n",
       "      <td>0.218929</td>\n",
       "      <td>-0.105701</td>\n",
       "      <td>-0.492073</td>\n",
       "      <td>...</td>\n",
       "      <td>1.088684</td>\n",
       "      <td>-0.973028</td>\n",
       "      <td>-0.093741</td>\n",
       "      <td>0.472444</td>\n",
       "      <td>-1.434717</td>\n",
       "      <td>-0.182967</td>\n",
       "      <td>0.758610</td>\n",
       "      <td>0.900491</td>\n",
       "      <td>-0.157822</td>\n",
       "      <td>-0.605143</td>\n",
       "    </tr>\n",
       "    <tr>\n",
       "      <th>0.667319</th>\n",
       "      <td>-1.406251</td>\n",
       "      <td>-1.135673</td>\n",
       "      <td>-0.413820</td>\n",
       "      <td>1.238228</td>\n",
       "      <td>0.981772</td>\n",
       "      <td>0.296202</td>\n",
       "      <td>-1.554758</td>\n",
       "      <td>0.463208</td>\n",
       "      <td>0.068361</td>\n",
       "      <td>-1.726245</td>\n",
       "      <td>...</td>\n",
       "      <td>-0.205904</td>\n",
       "      <td>0.400004</td>\n",
       "      <td>0.967717</td>\n",
       "      <td>-0.744546</td>\n",
       "      <td>-0.152936</td>\n",
       "      <td>-0.118967</td>\n",
       "      <td>1.495109</td>\n",
       "      <td>-0.718759</td>\n",
       "      <td>0.363297</td>\n",
       "      <td>4.145339</td>\n",
       "    </tr>\n",
       "    <tr>\n",
       "      <th>-0.965608</th>\n",
       "      <td>-0.477094</td>\n",
       "      <td>-0.850060</td>\n",
       "      <td>-0.833271</td>\n",
       "      <td>0.114385</td>\n",
       "      <td>1.424588</td>\n",
       "      <td>-2.110550</td>\n",
       "      <td>-2.991202</td>\n",
       "      <td>-1.373013</td>\n",
       "      <td>0.536102</td>\n",
       "      <td>-1.711880</td>\n",
       "      <td>...</td>\n",
       "      <td>-1.008696</td>\n",
       "      <td>0.040944</td>\n",
       "      <td>-1.307885</td>\n",
       "      <td>-0.456927</td>\n",
       "      <td>-1.235990</td>\n",
       "      <td>1.041307</td>\n",
       "      <td>0.687524</td>\n",
       "      <td>-0.339984</td>\n",
       "      <td>-1.605094</td>\n",
       "      <td>2.411231</td>\n",
       "    </tr>\n",
       "    <tr>\n",
       "      <th>2.009337</th>\n",
       "      <td>-0.758438</td>\n",
       "      <td>1.780860</td>\n",
       "      <td>1.289265</td>\n",
       "      <td>1.063035</td>\n",
       "      <td>-0.065658</td>\n",
       "      <td>2.085672</td>\n",
       "      <td>3.560414</td>\n",
       "      <td>2.029031</td>\n",
       "      <td>-0.492697</td>\n",
       "      <td>-0.441852</td>\n",
       "      <td>...</td>\n",
       "      <td>0.297242</td>\n",
       "      <td>0.739871</td>\n",
       "      <td>0.410214</td>\n",
       "      <td>0.840848</td>\n",
       "      <td>-0.343682</td>\n",
       "      <td>-1.210769</td>\n",
       "      <td>0.040901</td>\n",
       "      <td>-1.299753</td>\n",
       "      <td>0.032998</td>\n",
       "      <td>-2.224347</td>\n",
       "    </tr>\n",
       "  </tbody>\n",
       "</table>\n",
       "<p>5 rows × 29 columns</p>\n",
       "</div>"
      ],
      "text/plain": [
       "           -0.996984  -0.112222   0.626185  -0.478867   0.737830   0.369100  \\\n",
       "-0.828489  -0.753715   0.417694   1.852847   0.969025   0.158776   0.400758   \n",
       " 0.152423   0.008496  -0.190494  -0.547714  -0.638880  -0.771740   0.803135   \n",
       " 0.667319  -1.406251  -1.135673  -0.413820   1.238228   0.981772   0.296202   \n",
       "-0.965608  -0.477094  -0.850060  -0.833271   0.114385   1.424588  -2.110550   \n",
       " 2.009337  -0.758438   1.780860   1.289265   1.063035  -0.065658   2.085672   \n",
       "\n",
       "           -1.401894   0.077317   0.637625   0.876540  ...   0.205934  \\\n",
       "-0.828489   2.218523  -2.325915  -0.155717  -1.004587  ...  -0.399146   \n",
       " 0.152423   0.736189   0.218929  -0.105701  -0.492073  ...   1.088684   \n",
       " 0.667319  -1.554758   0.463208   0.068361  -1.726245  ...  -0.205904   \n",
       "-0.965608  -2.991202  -1.373013   0.536102  -1.711880  ...  -1.008696   \n",
       " 2.009337   3.560414   2.029031  -0.492697  -0.441852  ...   0.297242   \n",
       "\n",
       "           -0.605992   0.370428  -1.200587  -0.351176  -1.705627   0.768274  \\\n",
       "-0.828489   0.449992   1.673172   0.602229   0.798724   0.910562   0.364193   \n",
       " 0.152423  -0.973028  -0.093741   0.472444  -1.434717  -0.182967   0.758610   \n",
       " 0.667319   0.400004   0.967717  -0.744546  -0.152936  -0.118967   1.495109   \n",
       "-0.965608   0.040944  -1.307885  -0.456927  -1.235990   1.041307   0.687524   \n",
       " 2.009337   0.739871   0.410214   0.840848  -0.343682  -1.210769   0.040901   \n",
       "\n",
       "            2.082260   0.267221   0.143980  \n",
       "-0.828489   1.426161  -0.339461  -1.109342  \n",
       " 0.152423   0.900491  -0.157822  -0.605143  \n",
       " 0.667319  -0.718759   0.363297   4.145339  \n",
       "-0.965608  -0.339984  -1.605094   2.411231  \n",
       " 2.009337  -1.299753   0.032998  -2.224347  \n",
       "\n",
       "[5 rows x 29 columns]"
      ]
     },
     "execution_count": 11,
     "metadata": {},
     "output_type": "execute_result"
    }
   ],
   "source": [
    "a.head()"
   ]
  },
  {
   "cell_type": "code",
   "execution_count": 12,
   "metadata": {},
   "outputs": [],
   "source": [
    "x_train,x_test,y_train,y_test=train_test_split(X,y,test_size=0.3, random_state=42)"
   ]
  },
  {
   "cell_type": "code",
   "execution_count": 13,
   "metadata": {},
   "outputs": [
    {
     "data": {
      "text/plain": [
       "array([1, 2, 2, 3, 2, 3, 1, 2, 3, 0, 3, 3, 2, 4, 2, 1, 2, 0, 1, 1, 0, 0,\n",
       "       0, 4, 2, 2, 4, 3, 0, 3, 0, 3, 0, 0, 4, 0, 0, 0, 3, 3, 1, 1, 3, 1,\n",
       "       1, 3, 0, 2, 2, 1, 0, 1, 0, 4, 2, 4, 3, 2, 0, 3, 0, 4, 0, 2, 0, 3,\n",
       "       1, 2, 1, 0, 0, 3, 4, 0, 0, 4, 0, 2, 3, 0, 3, 1, 1, 2, 0, 3, 4, 3,\n",
       "       1, 2, 3, 3, 3, 4, 3, 1, 2, 2, 1, 0, 1, 4, 3, 2, 2, 1, 0, 4, 1, 0,\n",
       "       3, 2, 3, 4, 3, 1, 1, 4, 4, 1, 2, 4, 4, 4, 4, 0, 3, 2, 0, 0, 3, 1,\n",
       "       4, 2, 2, 3, 1, 2, 1, 4, 0, 4, 0, 1, 4, 1, 1, 4, 4, 1, 1, 3, 1, 1,\n",
       "       0, 0, 3, 3, 2, 3, 0, 0, 0, 0, 3, 2, 0, 2, 0, 2, 3, 0, 0, 4, 0, 0,\n",
       "       2, 2, 4, 0, 1, 4, 2, 1, 1, 3, 0, 4, 2, 4, 0, 4, 3, 0, 1, 1, 0, 4,\n",
       "       3, 3, 1, 0, 3, 2, 0, 1, 4, 3, 0, 3, 2, 0, 1, 2, 1, 4, 2, 2, 0, 0,\n",
       "       0, 4, 3, 1, 1, 0, 0, 2, 1, 0, 3, 0, 1, 1, 0, 1, 3, 2, 2, 3, 4, 2,\n",
       "       1, 1, 2, 2, 0, 0, 3, 3, 3, 3, 3, 2, 2, 0, 1, 3, 4, 1, 2, 4, 0, 0,\n",
       "       2, 2, 3, 3, 0, 2, 3, 1, 3, 1, 2, 0, 4, 1, 1, 3, 1, 0, 0, 0, 0, 1,\n",
       "       0, 0, 2, 1, 3, 1, 1, 2, 3, 3, 0, 2, 0, 1])"
      ]
     },
     "execution_count": 13,
     "metadata": {},
     "output_type": "execute_result"
    }
   ],
   "source": [
    "knn=KNeighborsClassifier()\n",
    "knn.fit(x_train,y_train)\n",
    "y_predict=knn.predict(x_test)\n",
    "y_predict"
   ]
  },
  {
   "cell_type": "code",
   "execution_count": 14,
   "metadata": {},
   "outputs": [
    {
     "data": {
      "text/plain": [
       "49.666666666666664"
      ]
     },
     "execution_count": 14,
     "metadata": {},
     "output_type": "execute_result"
    }
   ],
   "source": [
    "knn_accuracy=accuracy_score(y_test,y_predict)*100\n",
    "knn_accuracy"
   ]
  },
  {
   "cell_type": "code",
   "execution_count": 47,
   "metadata": {},
   "outputs": [
    {
     "data": {
      "text/plain": [
       "{'0': {'precision': 0.45161290322580644,\n",
       "  'recall': 0.45161290322580644,\n",
       "  'f1-score': 0.45161290322580644,\n",
       "  'support': 62},\n",
       " '1': {'precision': 0.5172413793103449,\n",
       "  'recall': 0.7258064516129032,\n",
       "  'f1-score': 0.6040268456375839,\n",
       "  'support': 62},\n",
       " '2': {'precision': 0.3770491803278688,\n",
       "  'recall': 0.3898305084745763,\n",
       "  'f1-score': 0.3833333333333333,\n",
       "  'support': 59},\n",
       " '3': {'precision': 0.45454545454545453,\n",
       "  'recall': 0.4716981132075472,\n",
       "  'f1-score': 0.46296296296296297,\n",
       "  'support': 53},\n",
       " '4': {'precision': 0.45714285714285713,\n",
       "  'recall': 0.25,\n",
       "  'f1-score': 0.32323232323232326,\n",
       "  'support': 64},\n",
       " 'accuracy': 0.45666666666666667,\n",
       " 'macro avg': {'precision': 0.4515183549104663,\n",
       "  'recall': 0.4577895953041667,\n",
       "  'f1-score': 0.44503367367840196,\n",
       "  'support': 300},\n",
       " 'weighted avg': {'precision': 0.452209730348792,\n",
       "  'recall': 0.45666666666666667,\n",
       "  'f1-score': 0.44430078940034196,\n",
       "  'support': 300}}"
      ]
     },
     "execution_count": 47,
     "metadata": {},
     "output_type": "execute_result"
    }
   ],
   "source": [
    "report=classification_report(y_test,y_predict,output_dict=True)\n",
    "report"
   ]
  },
  {
   "cell_type": "code",
   "execution_count": 48,
   "metadata": {},
   "outputs": [
    {
     "data": {
      "text/html": [
       "<div>\n",
       "<style scoped>\n",
       "    .dataframe tbody tr th:only-of-type {\n",
       "        vertical-align: middle;\n",
       "    }\n",
       "\n",
       "    .dataframe tbody tr th {\n",
       "        vertical-align: top;\n",
       "    }\n",
       "\n",
       "    .dataframe thead th {\n",
       "        text-align: right;\n",
       "    }\n",
       "</style>\n",
       "<table border=\"1\" class=\"dataframe\">\n",
       "  <thead>\n",
       "    <tr style=\"text-align: right;\">\n",
       "      <th>Predicted</th>\n",
       "      <th>0</th>\n",
       "      <th>1</th>\n",
       "      <th>2</th>\n",
       "      <th>3</th>\n",
       "      <th>4</th>\n",
       "    </tr>\n",
       "    <tr>\n",
       "      <th>Actual</th>\n",
       "      <th></th>\n",
       "      <th></th>\n",
       "      <th></th>\n",
       "      <th></th>\n",
       "      <th></th>\n",
       "    </tr>\n",
       "  </thead>\n",
       "  <tbody>\n",
       "    <tr>\n",
       "      <th>0</th>\n",
       "      <td>28</td>\n",
       "      <td>10</td>\n",
       "      <td>9</td>\n",
       "      <td>11</td>\n",
       "      <td>4</td>\n",
       "    </tr>\n",
       "    <tr>\n",
       "      <th>1</th>\n",
       "      <td>2</td>\n",
       "      <td>45</td>\n",
       "      <td>7</td>\n",
       "      <td>4</td>\n",
       "      <td>4</td>\n",
       "    </tr>\n",
       "    <tr>\n",
       "      <th>2</th>\n",
       "      <td>15</td>\n",
       "      <td>8</td>\n",
       "      <td>23</td>\n",
       "      <td>7</td>\n",
       "      <td>6</td>\n",
       "    </tr>\n",
       "    <tr>\n",
       "      <th>3</th>\n",
       "      <td>5</td>\n",
       "      <td>9</td>\n",
       "      <td>9</td>\n",
       "      <td>25</td>\n",
       "      <td>5</td>\n",
       "    </tr>\n",
       "    <tr>\n",
       "      <th>4</th>\n",
       "      <td>12</td>\n",
       "      <td>15</td>\n",
       "      <td>13</td>\n",
       "      <td>8</td>\n",
       "      <td>16</td>\n",
       "    </tr>\n",
       "  </tbody>\n",
       "</table>\n",
       "</div>"
      ],
      "text/plain": [
       "Predicted   0   1   2   3   4\n",
       "Actual                       \n",
       "0          28  10   9  11   4\n",
       "1           2  45   7   4   4\n",
       "2          15   8  23   7   6\n",
       "3           5   9   9  25   5\n",
       "4          12  15  13   8  16"
      ]
     },
     "execution_count": 48,
     "metadata": {},
     "output_type": "execute_result"
    }
   ],
   "source": [
    "confusion_matrix_knn = pd.crosstab(y_test , y_predict, rownames=['Actual'], colnames=['Predicted'])\n",
    "confusion_matrix_knn"
   ]
  },
  {
   "cell_type": "code",
   "execution_count": 49,
   "metadata": {},
   "outputs": [
    {
     "data": {
      "image/png": "[encoded data removed]",
      "text/plain": [
       "<Figure size 432x288 with 2 Axes>"
      ]
     },
     "metadata": {
      "needs_background": "light"
     },
     "output_type": "display_data"
    }
   ],
   "source": [
    "output=['0','1','2','3','4']\n",
    "sns.heatmap(confusion_matrix_knn,square=True, annot=True,cmap=\"YlGn\",xticklabels=output,yticklabels=output,fmt=\".0f\")\n",
    "plt.ylabel(\"Actual values\");\n",
    "plt.xlabel(\"Pedicted Values\");"
   ]
  },
  {
   "cell_type": "markdown",
   "metadata": {},
   "source": [
    "# Generating Dataset using make_label_classification"
   ]
  },
  {
   "cell_type": "markdown",
   "metadata": {},
   "source": [
    "## taking n=7 classes"
   ]
  },
  {
   "cell_type": "code",
   "execution_count": 83,
   "metadata": {},
   "outputs": [
    {
     "data": {
      "text/plain": [
       "array([[0, 1, 1, ..., 1, 0, 0],\n",
       "       [1, 0, 1, ..., 0, 0, 1],\n",
       "       [0, 0, 0, ..., 0, 0, 0],\n",
       "       ...,\n",
       "       [0, 0, 0, ..., 1, 0, 0],\n",
       "       [1, 0, 1, ..., 0, 0, 1],\n",
       "       [0, 0, 0, ..., 0, 0, 0]])"
      ]
     },
     "execution_count": 83,
     "metadata": {},
     "output_type": "execute_result"
    }
   ],
   "source": [
    "X,y=make_multilabel_classification(n_samples=1000,n_features=30,n_classes=7)\n",
    "x_train,x_test,y_train,y_test=train_test_split(X,y,test_size=0.3, random_state=42)\n",
    "y"
   ]
  },
  {
   "cell_type": "code",
   "execution_count": 84,
   "metadata": {},
   "outputs": [
    {
     "data": {
      "text/plain": [
       "array([[0, 0, 0, ..., 0, 0, 0],\n",
       "       [1, 0, 0, ..., 0, 0, 0],\n",
       "       [0, 0, 0, ..., 0, 0, 0],\n",
       "       ...,\n",
       "       [0, 0, 0, ..., 0, 0, 1],\n",
       "       [0, 0, 0, ..., 0, 0, 1],\n",
       "       [0, 0, 0, ..., 0, 0, 0]])"
      ]
     },
     "execution_count": 84,
     "metadata": {},
     "output_type": "execute_result"
    }
   ],
   "source": [
    "knn1=KNeighborsClassifier(n_neighbors=70)\n",
    "knn1.fit(x_train,y_train)\n",
    "y_predict1=knn1.predict(x_test)\n",
    "y_predict1"
   ]
  },
  {
   "cell_type": "code",
   "execution_count": 85,
   "metadata": {},
   "outputs": [
    {
     "data": {
      "text/plain": [
       "34.66666666666667"
      ]
     },
     "execution_count": 85,
     "metadata": {},
     "output_type": "execute_result"
    }
   ],
   "source": [
    "knn_accuracy1=accuracy_score(y_test,y_predict1)*100\n",
    "knn_accuracy1"
   ]
  },
  {
   "cell_type": "code",
   "execution_count": 88,
   "metadata": {},
   "outputs": [
    {
     "data": {
      "text/plain": [
       "{'0': {'precision': 0.9206349206349206,\n",
       "  'recall': 0.5132743362831859,\n",
       "  'f1-score': 0.6590909090909091,\n",
       "  'support': 113},\n",
       " '1': {'precision': 1.0, 'recall': 0.0, 'f1-score': 0.0, 'support': 37},\n",
       " '2': {'precision': 0.875,\n",
       "  'recall': 0.08333333333333333,\n",
       "  'f1-score': 0.15217391304347824,\n",
       "  'support': 84},\n",
       " '3': {'precision': 0.7192982456140351,\n",
       "  'recall': 0.7256637168141593,\n",
       "  'f1-score': 0.722466960352423,\n",
       "  'support': 113},\n",
       " '4': {'precision': 0.9333333333333333,\n",
       "  'recall': 0.2153846153846154,\n",
       "  'f1-score': 0.3500000000000001,\n",
       "  'support': 65},\n",
       " '5': {'precision': 1.0, 'recall': 0.0, 'f1-score': 0.0, 'support': 49},\n",
       " '6': {'precision': 0.8333333333333334,\n",
       "  'recall': 0.5128205128205128,\n",
       "  'f1-score': 0.6349206349206349,\n",
       "  'support': 117},\n",
       " 'micro avg': {'precision': 0.8125,\n",
       "  'recall': 0.38235294117647056,\n",
       "  'f1-score': 0.52,\n",
       "  'support': 578},\n",
       " 'macro avg': {'precision': 0.8973714047022316,\n",
       "  'recall': 0.2929252163765438,\n",
       "  'f1-score': 0.3598074882010636,\n",
       "  'support': 578},\n",
       " 'weighted avg': {'precision': 0.8702060803681638,\n",
       "  'recall': 0.38235294117647056,\n",
       "  'f1-score': 0.46009405229837885,\n",
       "  'support': 578},\n",
       " 'samples avg': {'precision': 0.8788888888888889,\n",
       "  'recall': 0.5558888888888889,\n",
       "  'f1-score': 0.562484126984127,\n",
       "  'support': 578}}"
      ]
     },
     "execution_count": 88,
     "metadata": {},
     "output_type": "execute_result"
    }
   ],
   "source": [
    "report=classification_report(y_test,y_predict1,output_dict=True,zero_division=1)\n",
    "report"
   ]
  },
  {
   "cell_type": "code",
   "execution_count": null,
   "metadata": {},
   "outputs": [],
   "source": []
  },
  {
   "cell_type": "code",
   "execution_count": 46,
   "metadata": {},
   "outputs": [
    {
     "data": {
      "image/png": "[encoded data removed]",
      "text/plain": [
       "<Figure size 432x288 with 2 Axes>"
      ]
     },
     "metadata": {
      "needs_background": "light"
     },
     "output_type": "display_data"
    }
   ],
   "source": []
  },
  {
   "cell_type": "code",
   "execution_count": 33,
   "metadata": {},
   "outputs": [],
   "source": []
  },
  {
   "cell_type": "code",
   "execution_count": 34,
   "metadata": {},
   "outputs": [
    {
     "data": {
      "text/plain": [
       "array([[1., 1., 1., ..., 3., 3., 2.],\n",
       "       [5., 1., 2., ..., 2., 0., 0.],\n",
       "       [1., 3., 1., ..., 2., 1., 1.],\n",
       "       ...,\n",
       "       [1., 1., 1., ..., 1., 4., 3.],\n",
       "       [5., 2., 1., ..., 3., 5., 1.],\n",
       "       [1., 0., 4., ..., 2., 6., 3.]])"
      ]
     },
     "execution_count": 34,
     "metadata": {},
     "output_type": "execute_result"
    }
   ],
   "source": []
  },
  {
   "cell_type": "code",
   "execution_count": null,
   "metadata": {},
   "outputs": [],
   "source": []
  },
  {
   "cell_type": "code",
   "execution_count": null,
   "metadata": {},
   "outputs": [],
   "source": []
  }
 ],
 "metadata": {
  "kernelspec": {
   "display_name": "Python 3",
   "language": "python",
   "name": "python3"
  },
  "language_info": {
   "codemirror_mode": {
    "name": "ipython",
    "version": 3
   },
   "file_extension": ".py",
   "mimetype": "text/x-python",
   "name": "python",
   "nbconvert_exporter": "python",
   "pygments_lexer": "ipython3",
   "version": "3.8.2"
  }
 },
 "nbformat": 4,
 "nbformat_minor": 4
}
