{
 "cells": [
  {
   "cell_type": "code",
   "execution_count": null,
   "metadata": {},
   "outputs": [],
   "source": [
    "import tkinter as tk\n",
    "from tkinter import ttk\n",
    "from tkinter import *\n",
    "import smtplib\n",
    "from tkinter import filedialog\n",
    "import re\n",
    "\n",
    "\n",
    "# this is a function which returns the selected combo box item\n",
    "root = Tk()\n",
    "root.geometry('400x450')\n",
    "root.configure()\n",
    "root.title('Lab Python 1841030')\n",
    "\n",
    "# This is the section of code which creates the main window\n",
    "root.geometry('845x561')\n",
    "root.configure()\n",
    "root.title('')\n",
    "\n",
    "def file_opener():\n",
    "   input = filedialog.askopenfile(initialdir=\"/\")\n",
    "   print(input)\n",
    "   for i in input:\n",
    "      print(i)\n",
    "        \n",
    "# Button label\n",
    "x = Button(root, text ='Select a .txt file to open', command = lambda:file_opener())\n",
    "x.pack()\n",
    "\n",
    "\n",
    "root.mainloop()"
   ]
  },
  {
   "cell_type": "code",
   "execution_count": null,
   "metadata": {},
   "outputs": [],
   "source": []
  }
 ],
 "metadata": {
  "kernelspec": {
   "display_name": "Python 3",
   "language": "python",
   "name": "python3"
  },
  "language_info": {
   "codemirror_mode": {
    "name": "ipython",
    "version": 3
   },
   "file_extension": ".py",
   "mimetype": "text/x-python",
   "name": "python",
   "nbconvert_exporter": "python",
   "pygments_lexer": "ipython3",
   "version": "3.7.7"
  }
 },
 "nbformat": 4,
 "nbformat_minor": 4
}
