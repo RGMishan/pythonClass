{
 "cells": [
  {
   "cell_type": "markdown",
   "metadata": {},
   "source": [
    "### P7-Generate two or more random paragraphs using the given online website.\n",
    "https://randomwordgenerator.com/paragraph.php\n",
    "### & perform the following tasks on it."
   ]
  },
  {
   "cell_type": "code",
   "execution_count": 1,
   "metadata": {},
   "outputs": [],
   "source": [
    "import re"
   ]
  },
  {
   "cell_type": "code",
   "execution_count": 2,
   "metadata": {},
   "outputs": [
    {
     "name": "stdout",
     "output_type": "stream",
     "text": [
      "I haven't bailed on writing. Look, I'm generating a random paragraph at this very moment in an attempt to get my writing back on track. I am making an effort. I will start writing consistently again!\n",
      "\n",
      "There once lived an old man and an old woman who were peasants and had to work hard to earn their daily brtoead. The old man used to go to fix fences and do other odd jobs for the farmers around, and while he was gone the old woman, his wife, did the wtork of the house and worked in their own little plot of land.\n",
      "\n",
      "\"This random entertaining paragraph was generated using https://randomwordgenerator.com/paragraph.php website for <regno. 1841030>.\n"
     ]
    }
   ],
   "source": [
    "para = open(\"paragraphRegex.txt\",\"r+\") \n",
    "reading = para.read()\n",
    "print(reading)"
   ]
  },
  {
   "cell_type": "markdown",
   "metadata": {},
   "source": [
    "### 01.Find the total number of paragraphs and total number of lines and words in each paragraph."
   ]
  },
  {
   "cell_type": "code",
   "execution_count": 3,
   "metadata": {},
   "outputs": [
    {
     "name": "stdout",
     "output_type": "stream",
     "text": [
      "The number of paragraph are 5\n",
      "The number of lines are 10\n",
      "The number of words are 130\n"
     ]
    }
   ],
   "source": [
    "paragraph = re.split(r'[\\n]', reading)\n",
    "lines = re.split(r'[.?]', reading)\n",
    "words = re.split(r'[ \\n,?.!]', reading)\n",
    "print(\"The number of paragraph are\", len(paragraph))\n",
    "print(\"The number of lines are\", len(lines))\n",
    "print(\"The number of words are\", len(words))"
   ]
  },
  {
   "cell_type": "markdown",
   "metadata": {},
   "source": [
    "### 02.Find all the words that begin with vowel in the first paragraph & those which begin with\n",
    "### consonants in the second paragraph."
   ]
  },
  {
   "cell_type": "code",
   "execution_count": 4,
   "metadata": {},
   "outputs": [
    {
     "name": "stdout",
     "output_type": "stream",
     "text": [
      "VOWEL\n",
      "-----------------------------------------\n",
      "I\n",
      "on\n",
      "I'm\n",
      "a\n",
      "at\n",
      "in\n",
      "an\n",
      "attempt\n",
      "on\n",
      "I\n",
      "am\n",
      "an\n",
      "effort.\n",
      "I\n",
      "again!\n",
      "-----------------------------------------\n",
      "CONSONANTS\n",
      "-----------------------------------------\n",
      "There\n",
      "lived\n",
      "man\n",
      "woman\n",
      "who\n",
      "were\n",
      "peasants\n",
      "had\n",
      "to\n",
      "work\n",
      "hard\n",
      "to\n",
      "their\n",
      "daily\n",
      "brtoead.\n",
      "The\n",
      "man\n",
      "to\n",
      "go\n",
      "to\n",
      "fix\n",
      "fences\n",
      "do\n",
      "jobs\n",
      "for\n",
      "the\n",
      "farmers\n",
      "while\n",
      "he\n",
      "was\n",
      "gone\n",
      "the\n",
      "woman,\n",
      "his\n",
      "wife,\n",
      "did\n",
      "the\n",
      "wtork\n",
      "the\n",
      "house\n",
      "worked\n",
      "their\n",
      "little\n",
      "plot\n",
      "land.\n"
     ]
    }
   ],
   "source": [
    "print(\"VOWEL\")\n",
    "print(\"-----------------------------------------\")\n",
    "para1 = re.split(r'[ \\n]', paragraph[0])\n",
    "countvow = 0\n",
    "for word in para1:\n",
    "    if re.search(r'^[aeiouAEIOU]', word):\n",
    "        countvow += 1\n",
    "        print(word)\n",
    "print(\"-----------------------------------------\")\n",
    "print(\"CONSONANTS\")\n",
    "print(\"-----------------------------------------\")\n",
    "countconst = 0\n",
    "para2 = re.split(r'[ \\n]', paragraph[2])\n",
    "for word in para2:\n",
    "    if re.search(r'^[^aeiouAEIOU]', word):\n",
    "        countconst += 1\n",
    "        print(word)"
   ]
  },
  {
   "cell_type": "markdown",
   "metadata": {},
   "source": [
    "### 03.Find all the words having numerals."
   ]
  },
  {
   "cell_type": "code",
   "execution_count": 5,
   "metadata": {},
   "outputs": [
    {
     "name": "stdout",
     "output_type": "stream",
     "text": [
      "1841030>\n",
      "\n",
      "Words having numerals are 1\n"
     ]
    }
   ],
   "source": [
    "countnum = 0\n",
    "for w in range(len(words)):\n",
    "    if re.search(r'[0-9]', words[w]):\n",
    "        countnum += 1\n",
    "        print(words[w])\n",
    "print(\"\\nWords having numerals are\", countnum)"
   ]
  },
  {
   "cell_type": "markdown",
   "metadata": {},
   "source": [
    "### 04.Find all the words which begin with letter 'data/Data/DATA'. If know such words exist then\n",
    "### add such related words and repeat the search."
   ]
  },
  {
   "cell_type": "code",
   "execution_count": 6,
   "metadata": {},
   "outputs": [
    {
     "name": "stdout",
     "output_type": "stream",
     "text": [
      "This is my data \n",
      "I am mining data \n",
      "\n",
      "Words which begin with letter 'data/Data/DATA' are 2\n"
     ]
    }
   ],
   "source": [
    "countd = 0\n",
    "words.append(\"This is my data \")\n",
    "words.append(\"I am mining data \")\n",
    "for i in range(len(words)):\n",
    "    if re.search(\"data|Data|DATA\", words[i]):\n",
    "        countd += 1\n",
    "        print(words[i])\n",
    "print(\"\\nWords which begin with letter 'data/Data/DATA' are\", countd)"
   ]
  },
  {
   "cell_type": "markdown",
   "metadata": {},
   "source": [
    "### 05.Find all the words which end with letter 'e'."
   ]
  },
  {
   "cell_type": "code",
   "execution_count": 7,
   "metadata": {},
   "outputs": [
    {
     "name": "stdout",
     "output_type": "stream",
     "text": [
      "There\n",
      "once\n",
      "were\n",
      "The\n",
      "the\n",
      "while\n",
      "he\n",
      "gone\n",
      "the\n",
      "wife\n",
      "the\n",
      "the\n",
      "house\n",
      "little\n",
      "website\n",
      "\n",
      "Words which end with letter 'e' are 15\n"
     ]
    }
   ],
   "source": [
    "countE = 0\n",
    "for i in range(len(words)):\n",
    "    if re.search(r'e$', words[i]):\n",
    "        countE += 1\n",
    "        print(words[i])\n",
    "print(\"\\nWords which end with letter 'e' are\", countE )"
   ]
  },
  {
   "cell_type": "markdown",
   "metadata": {},
   "source": [
    "### 06.Find all the words that begins with an vowel and ends with an vowel OR that begins with a\n",
    "### consonant and ends with a consonant."
   ]
  },
  {
   "cell_type": "code",
   "execution_count": 8,
   "metadata": {},
   "outputs": [
    {
     "name": "stdout",
     "output_type": "stream",
     "text": [
      "I\n",
      "haven't\n",
      "bailed\n",
      "writing\n",
      "Look\n",
      "generating\n",
      "a\n",
      "random\n",
      "paragraph\n",
      "this\n",
      "very\n",
      "moment\n",
      "get\n",
      "my\n",
      "writing\n",
      "back\n",
      "track\n",
      "I\n",
      "making\n",
      "I\n",
      "will\n",
      "start\n",
      "writing\n",
      "consistently\n",
      "once\n",
      "lived\n",
      "man\n",
      "woman\n",
      "peasants\n",
      "had\n",
      "work\n",
      "hard\n",
      "their\n",
      "daily\n",
      "brtoead\n",
      "man\n",
      "fix\n",
      "fences\n",
      "jobs\n",
      "for\n",
      "farmers\n",
      "was\n",
      "woman\n",
      "his\n",
      "did\n",
      "wtork\n",
      "worked\n",
      "their\n",
      "plot\n",
      "land\n",
      "\"This\n",
      "random\n",
      "paragraph\n",
      "was\n",
      "generated\n",
      "https://randomwordgenerator\n",
      "com/paragraph\n",
      "php\n",
      "for\n",
      "1841030>\n",
      "This is my data \n",
      "\n",
      "Words that begins with an vowel and ends with an vowel OR that begins with a consonant and ends with a consonant are  61\n"
     ]
    }
   ],
   "source": [
    "countVowCon = 0\n",
    "for w in range(len(words)):\n",
    "    if re.search(r'^[aeiouAEIOU]', words[w]) and re.search(r'[aeiouAEIOU]$', words[w]) or re.search(r'^[^aeiouAEIOU]', words[w]) and re.search(r'[^aeiouAEIOU]$', words[w]):\n",
    "        countVowCon += 1\n",
    "        print(words[w])\n",
    "print(\"\\nWords that begins with an vowel and ends with an vowel OR that begins with a consonant and ends with a consonant are \",countVowCon)"
   ]
  },
  {
   "cell_type": "markdown",
   "metadata": {},
   "source": [
    "### 07.Find all the words that have the letters 'to' in them, find the position of 'to' in each word."
   ]
  },
  {
   "cell_type": "code",
   "execution_count": 9,
   "metadata": {},
   "outputs": [
    {
     "name": "stdout",
     "output_type": "stream",
     "text": [
      "Word : to Position : 0\n",
      "Word : to Position : 0\n",
      "Word : to Position : 0\n",
      "Word : brtoead Position : 2\n",
      "Word : to Position : 0\n",
      "Word : to Position : 0\n",
      "Word : wtork Position : 1\n",
      "Word : https://randomwordgenerator Position : 24\n"
     ]
    }
   ],
   "source": [
    "countTo = 0\n",
    "for to in words:\n",
    "    if re.search(\"to\", to):\n",
    "        countTo += 1\n",
    "        print(\"The word : {} is in position : {}\".format(to, to.index(\"to\")))"
   ]
  },
  {
   "cell_type": "markdown",
   "metadata": {},
   "source": [
    "\n",
    "### 08.Find all the words that have capital letters in them."
   ]
  },
  {
   "cell_type": "code",
   "execution_count": null,
   "metadata": {},
   "outputs": [],
   "source": []
  },
  {
   "cell_type": "markdown",
   "metadata": {},
   "source": [
    "### 09.Find all the words that have special symbols in them."
   ]
  },
  {
   "cell_type": "code",
   "execution_count": null,
   "metadata": {},
   "outputs": [],
   "source": []
  },
  {
   "cell_type": "markdown",
   "metadata": {},
   "source": [
    "### 10.Find the first occurence of fullstop in your input."
   ]
  },
  {
   "cell_type": "code",
   "execution_count": null,
   "metadata": {},
   "outputs": [],
   "source": []
  },
  {
   "cell_type": "markdown",
   "metadata": {},
   "source": [
    "### 11.Find the words that dont have any vowel in them. If no such words exist add a few related\n",
    "### words and repeat the task."
   ]
  },
  {
   "cell_type": "code",
   "execution_count": null,
   "metadata": {},
   "outputs": [],
   "source": []
  },
  {
   "cell_type": "markdown",
   "metadata": {},
   "source": [
    "### 12.Find the first occurent of a word that does not begin with consonant but ends with 'ing' and has\n",
    "### 'ta' in it."
   ]
  },
  {
   "cell_type": "code",
   "execution_count": null,
   "metadata": {},
   "outputs": [],
   "source": []
  }
 ],
 "metadata": {
  "kernelspec": {
   "display_name": "Python 3",
   "language": "python",
   "name": "python3"
  },
  "language_info": {
   "codemirror_mode": {
    "name": "ipython",
    "version": 3
   },
   "file_extension": ".py",
   "mimetype": "text/x-python",
   "name": "python",
   "nbconvert_exporter": "python",
   "pygments_lexer": "ipython3",
   "version": "3.7.7"
  }
 },
 "nbformat": 4,
 "nbformat_minor": 4
}
