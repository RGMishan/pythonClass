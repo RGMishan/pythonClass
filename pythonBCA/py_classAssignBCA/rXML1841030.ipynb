{
 "cells": [
  {
   "cell_type": "markdown",
   "metadata": {},
   "source": [
    "# Q1. Create XML document with root of Student and Child elements of ID, Name, Program, and Grade."
   ]
  },
  {
   "cell_type": "code",
   "execution_count": 1,
   "metadata": {},
   "outputs": [],
   "source": [
    "import xml.etree.ElementTree as ET\n",
    "myTree = ET.parse('data.xml')"
   ]
  },
  {
   "cell_type": "code",
   "execution_count": 2,
   "metadata": {},
   "outputs": [
    {
     "name": "stdout",
     "output_type": "stream",
     "text": [
      "College\n"
     ]
    }
   ],
   "source": [
    "#Checking the Root Tag\n",
    "myroot = myTree.getroot()\n",
    "print(myroot.tag)"
   ]
  },
  {
   "cell_type": "code",
   "execution_count": 3,
   "metadata": {},
   "outputs": [
    {
     "name": "stdout",
     "output_type": "stream",
     "text": [
      "\n",
      "DETAILS\n",
      "\n",
      "ID       : 030\n",
      "NAME     : Mishan\n",
      "COURSE   : BCA\n",
      "GRADE    : D\n",
      "\n",
      "DETAILS\n",
      "\n",
      "ID       : 075\n",
      "NAME     : John\n",
      "COURSE   : BBA\n",
      "GRADE    : D\n",
      "\n",
      "DETAILS\n",
      "\n",
      "ID       : 085\n",
      "NAME     : Jane\n",
      "COURSE   : BDS\n",
      "GRADE    : D\n",
      "\n",
      "DETAILS\n",
      "\n",
      "ID       : 126\n",
      "NAME     : Jack\n",
      "COURSE   : MBBS\n",
      "GRADE    : D\n"
     ]
    }
   ],
   "source": [
    "for x in myroot.findall('Student'):\n",
    "    id = x.find('id').text #convert data to text\n",
    "    name = x.find('name').text\n",
    "    course = x.find('program').text\n",
    "    grade  = x.find('grade').text\n",
    "    \n",
    "    print('\\nDETAILS\\n')\n",
    "    print('ID       : {}'.format(id))\n",
    "    print('NAME     : {}'.format(name))\n",
    "    print('COURSE   : {}'.format(course))\n",
    "    print('GRADE    : {}'.format(grade))"
   ]
  },
  {
   "cell_type": "markdown",
   "metadata": {},
   "source": [
    "# Q2. Get values from user and append for all the sub-elements."
   ]
  },
  {
   "cell_type": "code",
   "execution_count": 5,
   "metadata": {},
   "outputs": [
    {
     "name": "stdout",
     "output_type": "stream",
     "text": [
      "ID :\n",
      "Name :\n",
      "Course :\n",
      "Grade  :\n"
     ]
    }
   ],
   "source": [
    "idget     = input('ID :')\n",
    "nameget   = input('Name :')\n",
    "courseget = input('Course :')\n",
    "gradeget  = input('Grade  :')\n",
    "\n",
    "child=ET.Element(\"Student\") #added tags tudent\n",
    "myroot.append(child)\n",
    "\n",
    "#Data get saved here\n",
    "id = ET.SubElement(child,'id')\n",
    "id.text = idget\n",
    "nm = ET.SubElement(child, \"name\")\n",
    "nm.text = nameget\n",
    "program = ET.SubElement(child, \"program\")\n",
    "program.text = courseget\n",
    "grade=ET.SubElement(child, \"grade\")\n",
    "grade.text= gradeget\n",
    "\n",
    "#Insert into our data file\n",
    "myTree.write('data.xml')"
   ]
  },
  {
   "cell_type": "markdown",
   "metadata": {},
   "source": [
    "# Q3. Modify XML document – add element name Employee"
   ]
  },
  {
   "cell_type": "code",
   "execution_count": 7,
   "metadata": {},
   "outputs": [
    {
     "name": "stdout",
     "output_type": "stream",
     "text": [
      "ID :\n",
      "Full Name :\n",
      "Salary :\n",
      "Year of Experience  :\n"
     ]
    }
   ],
   "source": [
    "idEmp     = input('ID :')\n",
    "nameEmp   = input('Full Name :')\n",
    "salaryEmp = input('Salary :')\n",
    "designationEmp  = input('Year of Experience  :')\n",
    "\n",
    "child=ET.Element(\"Employee\")\n",
    "myroot.append(child)\n",
    "\n",
    "id = ET.SubElement(child,\"ID\")\n",
    "id.text = idEmp\n",
    "nm = ET.SubElement(child, \"Full Name\")\n",
    "nm.text = nameEmp\n",
    "program = ET.SubElement(child, \"Salary\")\n",
    "program.text = salaryEmp\n",
    "grade=ET.SubElement(child, \"Year of Experience\")\n",
    "grade.text = designationEmp\n",
    "\n",
    "myTree.write('data.xml')\n",
    "\n",
    "child=ET.Element(\"Student\")"
   ]
  },
  {
   "cell_type": "markdown",
   "metadata": {},
   "source": [
    "# Q4. Modify XML document – change the value of any element"
   ]
  },
  {
   "cell_type": "code",
   "execution_count": null,
   "metadata": {},
   "outputs": [],
   "source": [
    "a = input(\"Enter the Student ID :\")\n",
    "\n",
    "for st in myroot.findall('Student'):\n",
    "        b = st.find('id').text\n",
    "        if a == b:\n",
    "            gra = st.find('grade')\n",
    "            new=input(\"Enter New Grade :\")\n",
    "            gra.text=new\n",
    "            myTree.write('data.xml')\n",
    "            break\n",
    "        else:\n",
    "            print(\"No Id Found\")"
   ]
  },
  {
   "cell_type": "markdown",
   "metadata": {},
   "source": [
    "## Checking The ID Present"
   ]
  },
  {
   "cell_type": "code",
   "execution_count": null,
   "metadata": {},
   "outputs": [],
   "source": [
    "print(\"\\nThe Student ID present are:\\n\") \n",
    "for grade in myroot.iter('id'):  \n",
    "    print(grade.text)"
   ]
  }
 ],
 "metadata": {
  "kernelspec": {
   "display_name": "Python 3",
   "language": "python",
   "name": "python3"
  },
  "language_info": {
   "codemirror_mode": {
    "name": "ipython",
    "version": 3
   },
   "file_extension": ".py",
   "mimetype": "text/x-python",
   "name": "python",
   "nbconvert_exporter": "python",
   "pygments_lexer": "ipython3",
   "version": "3.7.7"
  }
 },
 "nbformat": 4,
 "nbformat_minor": 4
}
