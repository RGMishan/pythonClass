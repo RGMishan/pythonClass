{
 "cells": [
  {
   "cell_type": "code",
   "execution_count": 1,
   "metadata": {},
   "outputs": [],
   "source": [
    "import tkinter as tk\n",
    "from tkinter import ttk\n",
    "from tkinter import *\n",
    "import smtplib\n",
    "from tkinter import filedialog\n",
    "import re\n",
    "\n",
    "# This is the section of code which creates the main window\n",
    "root = Tk()\n",
    "root.geometry('1045x761')\n",
    "root.configure()\n",
    "root.title('XML Movies')\n",
    "\n",
    "def file_opener():\n",
    "   input = filedialog.askopenfile(initialdir=\"/\")\n",
    "   print(input)\n",
    "   for i in input:\n",
    "      print(i)\n",
    "        \n",
    "# Button label\n",
    "x = Button(root, text ='Select a .txt file to open', command = lambda:file_opener())\n",
    "x.pack()\n",
    "\n",
    "Label(root, text=\"XML Title:\").place(x=50, y=20)\n",
    "\n",
    "Namet = Entry(root,  width=35)\n",
    "Namet.place(x=115, y=20)\n",
    "\n",
    "def display():\n",
    "    x = \"XML Title : \" + root.attrib['shelf']\n",
    "    name = Label(window, text=x, font=(\"Helvetica\", 12),width = 50, background=\"black\",borderwidth = 2, relief=\"solid\", highlightbackground=\"blue\")\n",
    "    name.place(x = 220,y=80)\n",
    "    frame = Frame(window,width=700,height=300,borderwidth=1)\n",
    "    frame.place(x=40,y=150)\n",
    "    row = ['Movie Name','Year','IMDB Rating','Description']\n",
    "    for i in range(0,1):\n",
    "        for j in range(0, 4):\n",
    "            e = Entry(frame, width=15,font=('Arial',10,'bold'),bg = 'purple',fg = 'white')\n",
    "            e.grid(row=i, column=j)\n",
    "            if(j==3):\n",
    "                e.configure(width=65)\n",
    "            e.insert(END,row[j])\n",
    "\n",
    "    for i in range(0,len(items)):\n",
    "        row.clear()\n",
    "        row.append(items[i].attributes['title'].value)\n",
    "        row.append(root[i][2].text)\n",
    "        row.append(root[i][4].text)\n",
    "        row.append(root[i][5].text)\n",
    "        for j in range(0, 4):\n",
    "            e = Entry(frame, width=15,font=('Arial',10,'bold'),bg = 'white',fg = 'purple')\n",
    "            e.grid(row=i+1, column=j)\n",
    "            if(j==3):\n",
    "                e.configure(width=65)\n",
    "            e.insert(END,row[j])\n",
    "            #e.config(state = DISABLED)\n",
    "\n",
    "\n",
    "root.mainloop()"
   ]
  },
  {
   "cell_type": "code",
   "execution_count": null,
   "metadata": {},
   "outputs": [],
   "source": []
  }
 ],
 "metadata": {
  "kernelspec": {
   "display_name": "Python 3",
   "language": "python",
   "name": "python3"
  },
  "language_info": {
   "codemirror_mode": {
    "name": "ipython",
    "version": 3
   },
   "file_extension": ".py",
   "mimetype": "text/x-python",
   "name": "python",
   "nbconvert_exporter": "python",
   "pygments_lexer": "ipython3",
   "version": "3.7.7"
  }
 },
 "nbformat": 4,
 "nbformat_minor": 4
}
