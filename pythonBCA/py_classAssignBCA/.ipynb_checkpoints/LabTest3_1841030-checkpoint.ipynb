{
 "cells": [
  {
   "cell_type": "markdown",
   "metadata": {},
   "source": [
    "# Mishan Regmi 1841030 5BCA \"A\""
   ]
  },
  {
   "cell_type": "markdown",
   "metadata": {},
   "source": [
    "## Creation of XML document with root of Hsopital and Child element Student and subchild ID, Name, Specialization, Login, and Password."
   ]
  },
  {
   "cell_type": "code",
   "execution_count": 1,
   "metadata": {},
   "outputs": [],
   "source": [
    "import xml.etree.ElementTree as ET\n",
    "myTree = ET.parse('data.xml')"
   ]
  },
  {
   "cell_type": "code",
   "execution_count": 2,
   "metadata": {},
   "outputs": [
    {
     "name": "stdout",
     "output_type": "stream",
     "text": [
      "Hospital\n"
     ]
    }
   ],
   "source": [
    "#Checking the Root Tag\n",
    "myroot = myTree.getroot()\n",
    "print(myroot.tag)"
   ]
  },
  {
   "cell_type": "code",
   "execution_count": 3,
   "metadata": {},
   "outputs": [
    {
     "name": "stdout",
     "output_type": "stream",
     "text": [
      "\n",
      "\n",
      "ID       : 01\n",
      "\n",
      "NAME     : Dr.Ram\n",
      "\n",
      "SPECIALIZATION   : Heart\n",
      "\n",
      "LOGIN    : ram.heart@gmail.com\n",
      "\n",
      "PASSWORD    : ramheart123\n",
      "\n",
      "\n",
      "\n",
      "ID       : 02\n",
      "\n",
      "NAME     : Hari\n",
      "\n",
      "SPECIALIZATION   : Eye\n",
      "\n",
      "LOGIN    : hari.eye@gmail.com\n",
      "\n",
      "PASSWORD    : changedpass123\n",
      "\n"
     ]
    }
   ],
   "source": [
    "for x in myroot.findall('Doctor'):\n",
    "    id = x.find('id').text #convert data to text\n",
    "    name = x.find('name').text\n",
    "    spec = x.find('spec').text\n",
    "    login  = x.find('login').text\n",
    "    password  = x.find('password').text\n",
    "    \n",
    "    print('\\n')\n",
    "    print('ID       : {}\\n'.format(id))\n",
    "    print('NAME     : {}\\n'.format(name))\n",
    "    print('SPECIALIZATION   : {}\\n'.format(spec))\n",
    "    print('LOGIN    : {}\\n'.format(login))\n",
    "    print('PASSWORD    : {}\\n'.format(password))"
   ]
  },
  {
   "cell_type": "markdown",
   "metadata": {},
   "source": [
    "## INPUT NEW DOCTOR"
   ]
  },
  {
   "cell_type": "code",
   "execution_count": 4,
   "metadata": {},
   "outputs": [
    {
     "name": "stdout",
     "output_type": "stream",
     "text": [
      "ID :03\n",
      "Name :Mishan\n",
      "Specialization :Teeth\n",
      "Login  :mishanteeth@gmail.com\n",
      "Password  :mishanteeth123\n"
     ]
    }
   ],
   "source": [
    "idget     = input('ID :')\n",
    "nameget   = input('Name :')\n",
    "specget = input('Specialization :')\n",
    "loginget  = input('Login  :')\n",
    "passwordget  = input('Password  :')\n",
    "\n",
    "child=ET.Element(\"Doctor\") #added tags tudent\n",
    "myroot.append(child)\n",
    "\n",
    "#Data get saved here\n",
    "idd = ET.SubElement(child,'id')\n",
    "idd.text = idget\n",
    "nm = ET.SubElement(child, \"name\")\n",
    "nm.text = nameget\n",
    "spec = ET.SubElement(child, \"spec\")\n",
    "spec.text = specget\n",
    "login=ET.SubElement(child, \"login\")\n",
    "login.text= loginget\n",
    "password=ET.SubElement(child, \"password\")\n",
    "password.text= passwordget\n",
    "\n",
    "#Insert into our data file\n",
    "myTree.write('data.xml')"
   ]
  },
  {
   "cell_type": "markdown",
   "metadata": {},
   "source": [
    "## UPDATE DOCTOR"
   ]
  },
  {
   "cell_type": "code",
   "execution_count": 5,
   "metadata": {},
   "outputs": [
    {
     "name": "stdout",
     "output_type": "stream",
     "text": [
      "Enter the Doctor ID to change password:\n",
      "mishan\n",
      "No Id Found\n",
      "No Id Found\n",
      "No Id Found\n"
     ]
    }
   ],
   "source": [
    "a = input(\"Enter the Doctor ID to change password:\\n\")\n",
    "\n",
    "for st in myroot.findall('Doctor'):\n",
    "        b = st.find('name').text\n",
    "        if a == b:\n",
    "            newpass = st.find('password')\n",
    "            new=input(\"Enter New Password :\")\n",
    "            newpass.text=new\n",
    "            myTree.write('data.xml')\n",
    "            break\n",
    "        else:\n",
    "            print(\"No Id Found\")"
   ]
  },
  {
   "cell_type": "code",
   "execution_count": 6,
   "metadata": {},
   "outputs": [
    {
     "name": "stdout",
     "output_type": "stream",
     "text": [
      "\n",
      "The Student ID present are:\n",
      "\n",
      "01\n",
      "02\n",
      "03\n"
     ]
    }
   ],
   "source": [
    "print(\"\\nThe Student ID present are:\\n\") \n",
    "for grade in myroot.iter('id'):  \n",
    "    print(grade.text)"
   ]
  },
  {
   "cell_type": "markdown",
   "metadata": {},
   "source": [
    "## DELETE DOCTOR"
   ]
  },
  {
   "cell_type": "code",
   "execution_count": 7,
   "metadata": {},
   "outputs": [
    {
     "name": "stdout",
     "output_type": "stream",
     "text": [
      "Done\n"
     ]
    }
   ],
   "source": [
    "myroot.remove(myroot[1])\n",
    "print(\"Done\")"
   ]
  },
  {
   "cell_type": "markdown",
   "metadata": {},
   "source": [
    "## Checking The ID Present"
   ]
  },
  {
   "cell_type": "code",
   "execution_count": 8,
   "metadata": {},
   "outputs": [
    {
     "name": "stdout",
     "output_type": "stream",
     "text": [
      "\n",
      "The Student ID present are:\n",
      "\n",
      "01\n",
      "03\n"
     ]
    }
   ],
   "source": [
    "print(\"\\nThe Student ID present are:\\n\") \n",
    "for grade in myroot.iter('id'):  \n",
    "    print(grade.text)"
   ]
  },
  {
   "cell_type": "code",
   "execution_count": null,
   "metadata": {},
   "outputs": [],
   "source": []
  }
 ],
 "metadata": {
  "kernelspec": {
   "display_name": "Python 3",
   "language": "python",
   "name": "python3"
  },
  "language_info": {
   "codemirror_mode": {
    "name": "ipython",
    "version": 3
   },
   "file_extension": ".py",
   "mimetype": "text/x-python",
   "name": "python",
   "nbconvert_exporter": "python",
   "pygments_lexer": "ipython3",
   "version": "3.7.7"
  }
 },
 "nbformat": 4,
 "nbformat_minor": 4
}
